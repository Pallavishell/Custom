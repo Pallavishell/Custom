{
 "cells": [
  {
   "cell_type": "raw",
   "id": "973397b7",
   "metadata": {},
   "source": [
    "function that calls itself"
   ]
  },
  {
   "cell_type": "code",
   "execution_count": 4,
   "id": "61cd7514",
   "metadata": {},
   "outputs": [],
   "source": [
    "def factorial(n):\n",
    "    if n==0:\n",
    "        return 1\n",
    "    else:\n",
    "        return n*factorial(n-1)\n",
    "        "
   ]
  },
  {
   "cell_type": "code",
   "execution_count": 5,
   "id": "abbfb372",
   "metadata": {},
   "outputs": [
    {
     "data": {
      "text/plain": [
       "6"
      ]
     },
     "execution_count": 5,
     "metadata": {},
     "output_type": "execute_result"
    }
   ],
   "source": [
    "factorial(3)"
   ]
  },
  {
   "cell_type": "code",
   "execution_count": 6,
   "id": "abab60ee",
   "metadata": {},
   "outputs": [],
   "source": [
    "def fib(n):\n",
    "    if n<=1:\n",
    "        return n\n",
    "    else:\n",
    "        return fib(n-1)+fib(n-2)"
   ]
  },
  {
   "cell_type": "code",
   "execution_count": 7,
   "id": "fac41f2b",
   "metadata": {},
   "outputs": [
    {
     "data": {
      "text/plain": [
       "5"
      ]
     },
     "execution_count": 7,
     "metadata": {},
     "output_type": "execute_result"
    }
   ],
   "source": [
    "fib(5)"
   ]
  },
  {
   "cell_type": "code",
   "execution_count": 8,
   "id": "67d445a4",
   "metadata": {},
   "outputs": [],
   "source": [
    "#decorar func\n",
    "def div(a,b):\n",
    "    if a<b:\n",
    "        a,b=b,a\n",
    "    c=a/b\n",
    "    return c"
   ]
  },
  {
   "cell_type": "code",
   "execution_count": 9,
   "id": "0e4d28dc",
   "metadata": {},
   "outputs": [
    {
     "data": {
      "text/plain": [
       "2.0"
      ]
     },
     "execution_count": 9,
     "metadata": {},
     "output_type": "execute_result"
    }
   ],
   "source": [
    "div(5,10)"
   ]
  },
  {
   "cell_type": "code",
   "execution_count": 10,
   "id": "c878923b",
   "metadata": {},
   "outputs": [
    {
     "data": {
      "text/plain": [
       "2.0"
      ]
     },
     "execution_count": 10,
     "metadata": {},
     "output_type": "execute_result"
    }
   ],
   "source": [
    "div(10,5)"
   ]
  },
  {
   "cell_type": "code",
   "execution_count": 16,
   "id": "56d526f0",
   "metadata": {},
   "outputs": [],
   "source": [
    "def div1(a1,b1):\n",
    "    c1=a1/b1\n",
    "    return c1"
   ]
  },
  {
   "cell_type": "code",
   "execution_count": 17,
   "id": "35b297c8",
   "metadata": {},
   "outputs": [],
   "source": [
    "def sm(func):\n",
    "    def inner(a,b):\n",
    "        if a<b:\n",
    "            a,b=b,a\n",
    "        return func(a,b)\n",
    "    return inner"
   ]
  },
  {
   "cell_type": "code",
   "execution_count": 18,
   "id": "430e6162",
   "metadata": {},
   "outputs": [],
   "source": [
    "result=sm(div1(2,3))"
   ]
  },
  {
   "cell_type": "code",
   "execution_count": 19,
   "id": "b69307bf",
   "metadata": {},
   "outputs": [
    {
     "ename": "TypeError",
     "evalue": "'float' object is not callable",
     "output_type": "error",
     "traceback": [
      "\u001b[0;31m---------------------------------------------------------------------------\u001b[0m",
      "\u001b[0;31mTypeError\u001b[0m                                 Traceback (most recent call last)",
      "Cell \u001b[0;32mIn[19], line 1\u001b[0m\n\u001b[0;32m----> 1\u001b[0m result(\u001b[38;5;241m10\u001b[39m,\u001b[38;5;241m5\u001b[39m)\n",
      "Cell \u001b[0;32mIn[17], line 5\u001b[0m, in \u001b[0;36msm.<locals>.inner\u001b[0;34m(a, b)\u001b[0m\n\u001b[1;32m      3\u001b[0m \u001b[38;5;28;01mif\u001b[39;00m a\u001b[38;5;241m<\u001b[39mb:\n\u001b[1;32m      4\u001b[0m     a,b\u001b[38;5;241m=\u001b[39mb,a\n\u001b[0;32m----> 5\u001b[0m \u001b[38;5;28;01mreturn\u001b[39;00m func(a,b)\n",
      "\u001b[0;31mTypeError\u001b[0m: 'float' object is not callable"
     ]
    }
   ],
   "source": [
    "result(10,5)"
   ]
  },
  {
   "cell_type": "code",
   "execution_count": 21,
   "id": "40028c08",
   "metadata": {},
   "outputs": [],
   "source": [
    "def decor(func):\n",
    "    def inner(name):\n",
    "        if name==\"robert\":\n",
    "            print(\"hello to robert, bad moring\")\n",
    "        else:\n",
    "            func(name)\n",
    "    return inner\n",
    "\n",
    "@decor\n",
    "def wish(name):\n",
    "    print(\"hello\", name, \"goodmorning\")"
   ]
  },
  {
   "cell_type": "code",
   "execution_count": 25,
   "id": "ec36d42d",
   "metadata": {},
   "outputs": [
    {
     "name": "stdout",
     "output_type": "stream",
     "text": [
      "hello pall goodmorning\n"
     ]
    },
    {
     "data": {
      "text/plain": [
       "<function __main__.decor.<locals>.inner(name)>"
      ]
     },
     "execution_count": 25,
     "metadata": {},
     "output_type": "execute_result"
    }
   ],
   "source": [
    "decor(wish(\"pall\"))"
   ]
  },
  {
   "cell_type": "code",
   "execution_count": 28,
   "id": "47d31adb",
   "metadata": {},
   "outputs": [],
   "source": [
    "def count(n):\n",
    "    i=1\n",
    "    while i<=n:\n",
    "        yield i\n",
    "        i=i+1"
   ]
  },
  {
   "cell_type": "code",
   "execution_count": 29,
   "id": "5d0f57b6",
   "metadata": {},
   "outputs": [
    {
     "data": {
      "text/plain": [
       "<generator object count at 0x7f588f97ec20>"
      ]
     },
     "execution_count": 29,
     "metadata": {},
     "output_type": "execute_result"
    }
   ],
   "source": [
    "count(10)"
   ]
  },
  {
   "cell_type": "code",
   "execution_count": 30,
   "id": "f61ee135",
   "metadata": {},
   "outputs": [
    {
     "name": "stdout",
     "output_type": "stream",
     "text": [
      "[1, 2, 3, 4, 5, 6, 7, 8, 9, 10]\n"
     ]
    }
   ],
   "source": [
    "print(list(count(10)))"
   ]
  },
  {
   "cell_type": "code",
   "execution_count": null,
   "id": "d3e0a0a0",
   "metadata": {},
   "outputs": [],
   "source": [
    "def fibc(n):\n",
    "    a,b=0,1\n",
    "    while True:\n",
    "        yield a\n",
    "        a,b=b,a+b\n",
    "    return\n",
    "print(list(fibc(5)))"
   ]
  },
  {
   "cell_type": "code",
   "execution_count": 1,
   "id": "62201525",
   "metadata": {},
   "outputs": [],
   "source": [
    "nos=[1,2,3,4,5445]"
   ]
  },
  {
   "cell_type": "code",
   "execution_count": 2,
   "id": "9ad31794",
   "metadata": {},
   "outputs": [
    {
     "name": "stdout",
     "output_type": "stream",
     "text": [
      "[2, 4]\n"
     ]
    }
   ],
   "source": [
    "l=[x for x in nos if x%2==0]\n",
    "print(l)"
   ]
  },
  {
   "cell_type": "code",
   "execution_count": 3,
   "id": "8d5c2da7",
   "metadata": {},
   "outputs": [],
   "source": [
    "list=[\"python\",\"sql\",\"azure\",\"powerbi\"]"
   ]
  },
  {
   "cell_type": "code",
   "execution_count": 5,
   "id": "01fc4e97",
   "metadata": {},
   "outputs": [],
   "source": [
    "l=[i for i in list]"
   ]
  },
  {
   "cell_type": "code",
   "execution_count": 6,
   "id": "64c34edd",
   "metadata": {},
   "outputs": [
    {
     "name": "stdout",
     "output_type": "stream",
     "text": [
      "['python', 'sql', 'azure', 'powerbi']\n"
     ]
    }
   ],
   "source": [
    "print(l)"
   ]
  },
  {
   "cell_type": "code",
   "execution_count": 7,
   "id": "0039d5eb",
   "metadata": {},
   "outputs": [],
   "source": [
    "l=[i[0] for i in list]"
   ]
  },
  {
   "cell_type": "code",
   "execution_count": 11,
   "id": "3569f4eb",
   "metadata": {},
   "outputs": [],
   "source": [
    "lnew=[i[0].upper()+i[1:] for i in list]"
   ]
  },
  {
   "cell_type": "code",
   "execution_count": 12,
   "id": "c975c31f",
   "metadata": {},
   "outputs": [
    {
     "name": "stdout",
     "output_type": "stream",
     "text": [
      "['Python', 'Sql', 'Azure', 'Powerbi']\n"
     ]
    }
   ],
   "source": [
    "print(lnew)"
   ]
  },
  {
   "cell_type": "code",
   "execution_count": 13,
   "id": "d33ebfda",
   "metadata": {},
   "outputs": [],
   "source": [
    "words=\"the quick brown fox jumps over the lazy dog\""
   ]
  },
  {
   "cell_type": "code",
   "execution_count": 16,
   "id": "9bdb0d57",
   "metadata": {},
   "outputs": [
    {
     "name": "stdout",
     "output_type": "stream",
     "text": [
      "[['THE', 3], ['QUICK', 5], ['BROWN', 5], ['FOX', 3], ['JUMPS', 5], ['OVER', 4], ['THE', 3], ['LAZY', 4], ['DOG', 3]]\n"
     ]
    }
   ],
   "source": [
    "output=[[i.upper(), len(i)] for i in words.split()]\n",
    "print(output)"
   ]
  },
  {
   "cell_type": "raw",
   "id": "679c5d83",
   "metadata": {},
   "source": [
    "lambda function:\n",
    "anonymous fucn: no name for the function"
   ]
  },
  {
   "cell_type": "code",
   "execution_count": 18,
   "id": "94e558d3",
   "metadata": {},
   "outputs": [
    {
     "data": {
      "text/plain": [
       "<function __main__.<lambda>(i)>"
      ]
     },
     "execution_count": 18,
     "metadata": {},
     "output_type": "execute_result"
    }
   ],
   "source": [
    "lambda i:i*i"
   ]
  },
  {
   "cell_type": "code",
   "execution_count": 19,
   "id": "9ea68114",
   "metadata": {},
   "outputs": [],
   "source": [
    "f=lambda i:i*i"
   ]
  },
  {
   "cell_type": "code",
   "execution_count": 20,
   "id": "ff89f720",
   "metadata": {},
   "outputs": [
    {
     "data": {
      "text/plain": [
       "9"
      ]
     },
     "execution_count": 20,
     "metadata": {},
     "output_type": "execute_result"
    }
   ],
   "source": [
    "f(3)"
   ]
  },
  {
   "cell_type": "code",
   "execution_count": 21,
   "id": "4b30517e",
   "metadata": {},
   "outputs": [
    {
     "name": "stdout",
     "output_type": "stream",
     "text": [
      "40\n"
     ]
    }
   ],
   "source": [
    "s=lambda a,b:a+b\n",
    "print(s(10,30))"
   ]
  },
  {
   "cell_type": "code",
   "execution_count": 24,
   "id": "552a2562",
   "metadata": {},
   "outputs": [],
   "source": [
    "lar = lambda a,b:a if a>b else b"
   ]
  },
  {
   "cell_type": "code",
   "execution_count": 25,
   "id": "2e3dccd5",
   "metadata": {},
   "outputs": [
    {
     "data": {
      "text/plain": [
       "12"
      ]
     },
     "execution_count": 25,
     "metadata": {},
     "output_type": "execute_result"
    }
   ],
   "source": [
    "lar(10,12)"
   ]
  },
  {
   "cell_type": "raw",
   "id": "f34e3f33",
   "metadata": {},
   "source": [
    "((a'b'+b'c')'  +  (a'c'+c'b')')' = ((a+b)(b+c) + (a+c)(c+b))' = \n",
    "(ab+bc+b + ac+c)' = (b+c+ab)' = (b+c)' = b'c'"
   ]
  },
  {
   "cell_type": "raw",
   "id": "49f1e1ca",
   "metadata": {},
   "source": [
    "filter, map"
   ]
  },
  {
   "cell_type": "code",
   "execution_count": 2,
   "id": "9a67acef",
   "metadata": {},
   "outputs": [],
   "source": [
    "k=[0,2,3,4,5,6,7,8]"
   ]
  },
  {
   "cell_type": "code",
   "execution_count": 3,
   "id": "d3c07fea",
   "metadata": {},
   "outputs": [],
   "source": [
    "evenodd =lambda x: x%2==0"
   ]
  },
  {
   "cell_type": "code",
   "execution_count": 4,
   "id": "8ecddcf5",
   "metadata": {},
   "outputs": [],
   "source": [
    "kl = list(filter(lambda x: x%2==0,k))"
   ]
  },
  {
   "cell_type": "code",
   "execution_count": 5,
   "id": "55bbee68",
   "metadata": {},
   "outputs": [
    {
     "name": "stdout",
     "output_type": "stream",
     "text": [
      "[0, 2, 4, 6, 8]\n"
     ]
    }
   ],
   "source": [
    "print(kl)"
   ]
  },
  {
   "cell_type": "code",
   "execution_count": 6,
   "id": "cfbcd13b",
   "metadata": {},
   "outputs": [],
   "source": [
    "def sqit(n):\n",
    "    return n**2"
   ]
  },
  {
   "cell_type": "code",
   "execution_count": 7,
   "id": "20d0e9ff",
   "metadata": {},
   "outputs": [],
   "source": [
    "sq = list(map(sqit,k))"
   ]
  },
  {
   "cell_type": "code",
   "execution_count": 8,
   "id": "a5238175",
   "metadata": {},
   "outputs": [
    {
     "name": "stdout",
     "output_type": "stream",
     "text": [
      "[0, 4, 9, 16, 25, 36, 49, 64]\n"
     ]
    }
   ],
   "source": [
    "print(sq)"
   ]
  },
  {
   "cell_type": "raw",
   "id": "49393cbf",
   "metadata": {},
   "source": [
    "a+b b+c = ab+b+ac+bc = b(a+1) + ac+bc = b+ac+bc = b(1+c)+ac = b+ac"
   ]
  },
  {
   "cell_type": "code",
   "execution_count": 9,
   "id": "fa23968a",
   "metadata": {},
   "outputs": [],
   "source": [
    "words = [\"hello\", \"world\", \"lambda\", \"exefcise\"]"
   ]
  },
  {
   "cell_type": "code",
   "execution_count": null,
   "id": "cb2e024f",
   "metadata": {},
   "outputs": [],
   "source": [
    "def up()"
   ]
  },
  {
   "cell_type": "code",
   "execution_count": 10,
   "id": "7bf0663a",
   "metadata": {},
   "outputs": [],
   "source": [
    "class COmputer:\n",
    "    def config(self):\n",
    "        print(\"i5, 16gb\")"
   ]
  },
  {
   "cell_type": "code",
   "execution_count": 11,
   "id": "d3309214",
   "metadata": {},
   "outputs": [],
   "source": [
    "comp1=COmputer()"
   ]
  },
  {
   "cell_type": "code",
   "execution_count": 12,
   "id": "98288740",
   "metadata": {},
   "outputs": [
    {
     "name": "stdout",
     "output_type": "stream",
     "text": [
      "i5, 16gb\n"
     ]
    }
   ],
   "source": [
    "comp1.config()"
   ]
  },
  {
   "cell_type": "code",
   "execution_count": null,
   "id": "24107d83",
   "metadata": {},
   "outputs": [],
   "source": []
  }
 ],
 "metadata": {
  "kernelspec": {
   "display_name": "Python 3 (ipykernel)",
   "language": "python",
   "name": "python3"
  },
  "language_info": {
   "codemirror_mode": {
    "name": "ipython",
    "version": 3
   },
   "file_extension": ".py",
   "mimetype": "text/x-python",
   "name": "python",
   "nbconvert_exporter": "python",
   "pygments_lexer": "ipython3",
   "version": "3.11.4"
  }
 },
 "nbformat": 4,
 "nbformat_minor": 5
}
