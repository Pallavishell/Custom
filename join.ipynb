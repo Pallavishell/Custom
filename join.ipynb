{
 "cells": [
  {
   "cell_type": "code",
   "execution_count": 1,
   "id": "71b65f21",
   "metadata": {},
   "outputs": [
    {
     "name": "stderr",
     "output_type": "stream",
     "text": [
      "Setting default log level to \"WARN\".\n",
      "To adjust logging level use sc.setLogLevel(newLevel). For SparkR, use setLogLevel(newLevel).\n",
      "23/09/22 09:04:54 WARN NativeCodeLoader: Unable to load native-hadoop library for your platform... using builtin-java classes where applicable\n",
      "23/09/22 09:04:55 WARN Utils: Service 'SparkUI' could not bind on port 4040. Attempting port 4041.\n",
      "23/09/22 09:04:55 WARN Utils: Service 'SparkUI' could not bind on port 4041. Attempting port 4042.\n",
      "23/09/22 09:04:55 WARN Utils: Service 'SparkUI' could not bind on port 4042. Attempting port 4043.\n"
     ]
    }
   ],
   "source": [
    "import pyspark\n",
    "import findspark\n",
    "findspark.init()\n",
    "from pyspark.sql import SparkSession\n",
    "spark = SparkSession.builder.appName(\"example\").getOrCreate()"
   ]
  },
  {
   "cell_type": "code",
   "execution_count": 2,
   "id": "be8e22d2",
   "metadata": {},
   "outputs": [],
   "source": [
    "inputfiles=\"/home/labuser/Downloads/myfiles\""
   ]
  },
  {
   "cell_type": "code",
   "execution_count": 3,
   "id": "b06189d0",
   "metadata": {},
   "outputs": [
    {
     "name": "stderr",
     "output_type": "stream",
     "text": [
      "                                                                                \r"
     ]
    }
   ],
   "source": [
    "df_sales=spark.read.csv(f\"{inputfiles}/salesdata.csv\")"
   ]
  },
  {
   "cell_type": "code",
   "execution_count": 4,
   "id": "fd2959c4",
   "metadata": {},
   "outputs": [],
   "source": [
    "df_product=spark.read.csv(f\"{inputfiles}/product.csv\")"
   ]
  },
  {
   "cell_type": "code",
   "execution_count": 5,
   "id": "8925203b",
   "metadata": {},
   "outputs": [
    {
     "name": "stdout",
     "output_type": "stream",
     "text": [
      "+--------------+----------+-----------+-------------+-------------------+\n",
      "|           _c0|       _c1|        _c2|          _c3|                _c4|\n",
      "+--------------+----------+-----------+-------------+-------------------+\n",
      "|transaction_id|product_id|customer_id|quantity_sold|          timestamp|\n",
      "|             1|       101|        201|            5|2023-09-22 10:15:00|\n",
      "|             2|       102|        202|            3|2023-09-22 11:30:00|\n",
      "|             3|       101|        203|            2|2023-09-22 12:45:00|\n",
      "|             4|       103|        204|            1|2023-09-22 14:00:00|\n",
      "|             5|       102|        205|            4|2023-09-22 15:15:00|\n",
      "+--------------+----------+-----------+-------------+-------------------+\n",
      "\n",
      "+----------+------------+-----------+-----+\n",
      "|       _c0|         _c1|        _c2|  _c3|\n",
      "+----------+------------+-----------+-----+\n",
      "|product_id|product_name|   category|price|\n",
      "|       101|      Laptop|Electronics|  800|\n",
      "|       102|  Smartphone|Electronics|  600|\n",
      "|       103|        Desk|  Furniture|  250|\n",
      "|       104|  Headphones|Electronics|  100|\n",
      "|       105|       Chair|  Furniture|  150|\n",
      "+----------+------------+-----------+-----+\n",
      "\n"
     ]
    }
   ],
   "source": [
    "df_sales.show()\n",
    "df_product.show()"
   ]
  },
  {
   "cell_type": "code",
   "execution_count": 6,
   "id": "becf1955",
   "metadata": {},
   "outputs": [
    {
     "name": "stderr",
     "output_type": "stream",
     "text": [
      "\r",
      "[Stage 5:>                                                          (0 + 1) / 1]\r",
      "\r",
      "                                                                                \r"
     ]
    }
   ],
   "source": [
    "df_sales=spark.read.option(\"header\",True).option(\"inferschema\",True).csv(f\"{inputfiles}/salesdata.csv\")\n",
    "df_product=spark.read.option(\"header\",True).option(\"inferschema\",True).csv(f\"{inputfiles}/product.csv\")"
   ]
  },
  {
   "cell_type": "code",
   "execution_count": 7,
   "id": "c1e07748",
   "metadata": {},
   "outputs": [
    {
     "name": "stdout",
     "output_type": "stream",
     "text": [
      "+----------+--------------+-----------+-------------+-------------------+------------+-----------+-----+\n",
      "|product_id|transaction_id|customer_id|quantity_sold|          timestamp|product_name|   category|price|\n",
      "+----------+--------------+-----------+-------------+-------------------+------------+-----------+-----+\n",
      "|       101|             1|        201|            5|2023-09-22 10:15:00|      Laptop|Electronics|  800|\n",
      "|       102|             2|        202|            3|2023-09-22 11:30:00|  Smartphone|Electronics|  600|\n",
      "|       101|             3|        203|            2|2023-09-22 12:45:00|      Laptop|Electronics|  800|\n",
      "|       103|             4|        204|            1|2023-09-22 14:00:00|        Desk|  Furniture|  250|\n",
      "|       102|             5|        205|            4|2023-09-22 15:15:00|  Smartphone|Electronics|  600|\n",
      "+----------+--------------+-----------+-------------+-------------------+------------+-----------+-----+\n",
      "\n"
     ]
    }
   ],
   "source": [
    "df_sales.join(df_product, on=\"product_id\").show()"
   ]
  },
  {
   "cell_type": "code",
   "execution_count": 8,
   "id": "7c0a329e",
   "metadata": {},
   "outputs": [],
   "source": [
    "salesprod=df_sales.join(df_product, df_sales[\"product_id\"]==df_product[\"product_id\"],how=\"left\")"
   ]
  },
  {
   "cell_type": "code",
   "execution_count": 9,
   "id": "2af22161",
   "metadata": {},
   "outputs": [
    {
     "name": "stdout",
     "output_type": "stream",
     "text": [
      "+--------------+----------+-----------+-------------+-------------------+----------+------------+-----------+-----+\n",
      "|transaction_id|product_id|customer_id|quantity_sold|          timestamp|product_id|product_name|   category|price|\n",
      "+--------------+----------+-----------+-------------+-------------------+----------+------------+-----------+-----+\n",
      "|             1|       101|        201|            5|2023-09-22 10:15:00|       101|      Laptop|Electronics|  800|\n",
      "|             2|       102|        202|            3|2023-09-22 11:30:00|       102|  Smartphone|Electronics|  600|\n",
      "|             3|       101|        203|            2|2023-09-22 12:45:00|       101|      Laptop|Electronics|  800|\n",
      "|             4|       103|        204|            1|2023-09-22 14:00:00|       103|        Desk|  Furniture|  250|\n",
      "|             5|       102|        205|            4|2023-09-22 15:15:00|       102|  Smartphone|Electronics|  600|\n",
      "+--------------+----------+-----------+-------------+-------------------+----------+------------+-----------+-----+\n",
      "\n"
     ]
    }
   ],
   "source": [
    "salesprod.show()"
   ]
  },
  {
   "cell_type": "code",
   "execution_count": 10,
   "id": "0d0a8361",
   "metadata": {},
   "outputs": [
    {
     "name": "stdout",
     "output_type": "stream",
     "text": [
      "+--------------+----------+-----------+-------------+-------------------+----------+------------+-----------+-----+\n",
      "|transaction_id|product_id|customer_id|quantity_sold|          timestamp|product_id|product_name|   category|price|\n",
      "+--------------+----------+-----------+-------------+-------------------+----------+------------+-----------+-----+\n",
      "|             1|       101|        201|            5|2023-09-22 10:15:00|       101|      Laptop|Electronics|  800|\n",
      "+--------------+----------+-----------+-------------+-------------------+----------+------------+-----------+-----+\n",
      "\n"
     ]
    }
   ],
   "source": [
    "salesprod.filter(\"transaction_id=1\").show()"
   ]
  },
  {
   "cell_type": "code",
   "execution_count": 11,
   "id": "11165f54",
   "metadata": {},
   "outputs": [
    {
     "name": "stdout",
     "output_type": "stream",
     "text": [
      "+--------------+----------+-----------+-------------+-------------------+----------+------------+-----------+-----+\n",
      "|transaction_id|product_id|customer_id|quantity_sold|          timestamp|product_id|product_name|   category|price|\n",
      "+--------------+----------+-----------+-------------+-------------------+----------+------------+-----------+-----+\n",
      "|             1|       101|        201|            5|2023-09-22 10:15:00|       101|      Laptop|Electronics|  800|\n",
      "+--------------+----------+-----------+-------------+-------------------+----------+------------+-----------+-----+\n",
      "\n"
     ]
    }
   ],
   "source": [
    "salesprod.where(\"transaction_id=1\").show()"
   ]
  },
  {
   "cell_type": "code",
   "execution_count": 12,
   "id": "8a30f03a",
   "metadata": {},
   "outputs": [],
   "source": [
    "from pyspark.sql.functions import *"
   ]
  },
  {
   "cell_type": "code",
   "execution_count": 13,
   "id": "b2c4ea31",
   "metadata": {},
   "outputs": [
    {
     "name": "stdout",
     "output_type": "stream",
     "text": [
      "+--------------+----------+-----------+-------------+-------------------+----------+------------+-----------+-----+\n",
      "|transaction_id|product_id|customer_id|quantity_sold|          timestamp|product_id|product_name|   category|price|\n",
      "+--------------+----------+-----------+-------------+-------------------+----------+------------+-----------+-----+\n",
      "|             1|       101|        201|            5|2023-09-22 10:15:00|       101|      Laptop|Electronics|  800|\n",
      "+--------------+----------+-----------+-------------+-------------------+----------+------------+-----------+-----+\n",
      "\n"
     ]
    }
   ],
   "source": [
    "salesprod.where(col(\"transaction_id\")==1).show()"
   ]
  },
  {
   "cell_type": "code",
   "execution_count": 14,
   "id": "795fbcb2",
   "metadata": {},
   "outputs": [],
   "source": [
    "employees = [(1, \"Scott\", \"Tiger\", 1000.0, \n",
    "                      \"united states\", \"+1 123 456 7890\", \"123 45 6789\"\n",
    "                     ),\n",
    "                     (2, \"Henry\", \"Ford\", 1250.0, \n",
    "                      \"India\", \"+91 234 567 8901\", \"456 78 9123\"\n",
    "                     ),\n",
    "                     (3, \"Nick\", \"Junior\", 750.0, \n",
    "                      \"united KINGDOM\", \"+44 111 111 1111\", \"222 33 4444\"\n",
    "                     ),\n",
    "                     (4, \"Bill\", \"Gomes\", 1500.0, \n",
    "                      \"AUSTRALIA\", \"+61 987 654 3210\", \"789 12 6118\"\n",
    "                     )\n",
    "                ]"
   ]
  },
  {
   "cell_type": "code",
   "execution_count": 15,
   "id": "63ff9aef",
   "metadata": {},
   "outputs": [],
   "source": [
    "employeesDF = spark. \\\n",
    "    createDataFrame(employees,\n",
    "                    schema=\"\"\"employee_id INT, first_name STRING, \n",
    "                    last_name STRING, salary FLOAT, nationality STRING,\n",
    "                    phone_number STRING, ssn STRING\"\"\"\n",
    "                   )"
   ]
  },
  {
   "cell_type": "code",
   "execution_count": 16,
   "id": "7f5dacc9",
   "metadata": {},
   "outputs": [
    {
     "name": "stderr",
     "output_type": "stream",
     "text": [
      "                                                                                \r"
     ]
    },
    {
     "name": "stdout",
     "output_type": "stream",
     "text": [
      "+-----------+----------+---------+------+--------------+----------------+-----------+\n",
      "|employee_id|first_name|last_name|salary|   nationality|    phone_number|        ssn|\n",
      "+-----------+----------+---------+------+--------------+----------------+-----------+\n",
      "|          1|     Scott|    Tiger|1000.0| united states| +1 123 456 7890|123 45 6789|\n",
      "|          2|     Henry|     Ford|1250.0|         India|+91 234 567 8901|456 78 9123|\n",
      "|          3|      Nick|   Junior| 750.0|united KINGDOM|+44 111 111 1111|222 33 4444|\n",
      "|          4|      Bill|    Gomes|1500.0|     AUSTRALIA|+61 987 654 3210|789 12 6118|\n",
      "+-----------+----------+---------+------+--------------+----------------+-----------+\n",
      "\n"
     ]
    }
   ],
   "source": [
    "employeesDF.show()"
   ]
  },
  {
   "cell_type": "code",
   "execution_count": 17,
   "id": "189f6d41",
   "metadata": {},
   "outputs": [
    {
     "name": "stdout",
     "output_type": "stream",
     "text": [
      "+-----------+----------+---------+------+--------------+----------------+-----------+\n",
      "|employee_id|first_name|last_name|salary|   nationality|    phone_number|        ssn|\n",
      "+-----------+----------+---------+------+--------------+----------------+-----------+\n",
      "|          1|     Scott|    Tiger|1000.0| UNITED STATES| +1 123 456 7890|123 45 6789|\n",
      "|          2|     Henry|     Ford|1250.0|         INDIA|+91 234 567 8901|456 78 9123|\n",
      "|          3|      Nick|   Junior| 750.0|UNITED KINGDOM|+44 111 111 1111|222 33 4444|\n",
      "|          4|      Bill|    Gomes|1500.0|     AUSTRALIA|+61 987 654 3210|789 12 6118|\n",
      "+-----------+----------+---------+------+--------------+----------------+-----------+\n",
      "\n"
     ]
    }
   ],
   "source": [
    "from pyspark.sql.functions import *\n",
    "from pyspark.sql.types import *\n",
    "employeesDF.withColumn(\"nationality\",upper(col(\"nationality\"))).show()"
   ]
  },
  {
   "cell_type": "code",
   "execution_count": 24,
   "id": "97beb5a9",
   "metadata": {},
   "outputs": [],
   "source": [
    "empf=employeesDF.withColumn(\"ss_last_4_digit\",expr('substring(ssn,-4)'))\\\n",
    ".withColumn(\"country_code\",split(\"phone_number\",\" \")[0].cast(\"int\")).\\\n",
    "withColumn(\"area_code\",split(\"phone_number\",\" \")[1].cast(\"int\"))"
   ]
  },
  {
   "cell_type": "code",
   "execution_count": 25,
   "id": "cad72cab",
   "metadata": {
    "scrolled": true
   },
   "outputs": [
    {
     "name": "stdout",
     "output_type": "stream",
     "text": [
      "+-----------+----------+---------+------+--------------+----------------+-----------+---------------+------------+---------+\n",
      "|employee_id|first_name|last_name|salary|   nationality|    phone_number|        ssn|ss_last_4_digit|country_code|area_code|\n",
      "+-----------+----------+---------+------+--------------+----------------+-----------+---------------+------------+---------+\n",
      "|          1|     Scott|    Tiger|1000.0| united states| +1 123 456 7890|123 45 6789|           6789|           1|      123|\n",
      "|          2|     Henry|     Ford|1250.0|         India|+91 234 567 8901|456 78 9123|           9123|          91|      234|\n",
      "|          3|      Nick|   Junior| 750.0|united KINGDOM|+44 111 111 1111|222 33 4444|           4444|          44|      111|\n",
      "|          4|      Bill|    Gomes|1500.0|     AUSTRALIA|+61 987 654 3210|789 12 6118|           6118|          61|      987|\n",
      "+-----------+----------+---------+------+--------------+----------------+-----------+---------------+------------+---------+\n",
      "\n"
     ]
    }
   ],
   "source": [
    "empf.show()"
   ]
  },
  {
   "cell_type": "code",
   "execution_count": 26,
   "id": "fd6b5f56",
   "metadata": {},
   "outputs": [
    {
     "data": {
      "text/html": [
       "\n",
       "            <div>\n",
       "                <p><b>SparkSession - in-memory</b></p>\n",
       "                \n",
       "        <div>\n",
       "            <p><b>SparkContext</b></p>\n",
       "\n",
       "            <p><a href=\"http://ip-172-31-2-215.ap-south-1.compute.internal:4043\">Spark UI</a></p>\n",
       "\n",
       "            <dl>\n",
       "              <dt>Version</dt>\n",
       "                <dd><code>v3.4.1</code></dd>\n",
       "              <dt>Master</dt>\n",
       "                <dd><code>local[*]</code></dd>\n",
       "              <dt>AppName</dt>\n",
       "                <dd><code>example</code></dd>\n",
       "            </dl>\n",
       "        </div>\n",
       "        \n",
       "            </div>\n",
       "        "
      ],
      "text/plain": [
       "<pyspark.sql.session.SparkSession at 0x7f0487183bd0>"
      ]
     },
     "execution_count": 26,
     "metadata": {},
     "output_type": "execute_result"
    }
   ],
   "source": [
    "spark"
   ]
  },
  {
   "cell_type": "code",
   "execution_count": null,
   "id": "79137df1",
   "metadata": {},
   "outputs": [],
   "source": []
  }
 ],
 "metadata": {
  "kernelspec": {
   "display_name": "Python 3 (ipykernel)",
   "language": "python",
   "name": "python3"
  },
  "language_info": {
   "codemirror_mode": {
    "name": "ipython",
    "version": 3
   },
   "file_extension": ".py",
   "mimetype": "text/x-python",
   "name": "python",
   "nbconvert_exporter": "python",
   "pygments_lexer": "ipython3",
   "version": "3.11.4"
  }
 },
 "nbformat": 4,
 "nbformat_minor": 5
}
