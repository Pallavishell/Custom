{
 "cells": [
  {
   "cell_type": "code",
   "execution_count": 2,
   "id": "1eeaff5c",
   "metadata": {},
   "outputs": [],
   "source": [
    "import numpy as np"
   ]
  },
  {
   "cell_type": "code",
   "execution_count": 3,
   "id": "1404f023",
   "metadata": {},
   "outputs": [],
   "source": [
    "arr=np.array([1,23,45])"
   ]
  },
  {
   "cell_type": "code",
   "execution_count": 4,
   "id": "ad7efd58",
   "metadata": {},
   "outputs": [
    {
     "data": {
      "text/plain": [
       "array([ 1, 23, 45])"
      ]
     },
     "execution_count": 4,
     "metadata": {},
     "output_type": "execute_result"
    }
   ],
   "source": [
    "arr"
   ]
  },
  {
   "cell_type": "code",
   "execution_count": 5,
   "id": "8b69deb8",
   "metadata": {},
   "outputs": [],
   "source": [
    "arr2=np.array([[1,34,23],[56,3,55]])"
   ]
  },
  {
   "cell_type": "code",
   "execution_count": 6,
   "id": "f4d5bce8",
   "metadata": {},
   "outputs": [
    {
     "data": {
      "text/plain": [
       "array([[ 1, 34, 23],\n",
       "       [56,  3, 55]])"
      ]
     },
     "execution_count": 6,
     "metadata": {},
     "output_type": "execute_result"
    }
   ],
   "source": [
    "arr2"
   ]
  },
  {
   "cell_type": "code",
   "execution_count": 7,
   "id": "8cafac3b",
   "metadata": {},
   "outputs": [
    {
     "data": {
      "text/plain": [
       "2"
      ]
     },
     "execution_count": 7,
     "metadata": {},
     "output_type": "execute_result"
    }
   ],
   "source": [
    "arr2.ndim"
   ]
  },
  {
   "cell_type": "code",
   "execution_count": 8,
   "id": "8cdce9bc",
   "metadata": {},
   "outputs": [],
   "source": [
    "arr3=np.array([[1,34,23],[56,3,55],[77,98,6],[24,55,44],[32,66,11],[98,33,44]])"
   ]
  },
  {
   "cell_type": "code",
   "execution_count": 9,
   "id": "64a48668",
   "metadata": {},
   "outputs": [
    {
     "data": {
      "text/plain": [
       "array([[ 1, 34, 23],\n",
       "       [56,  3, 55],\n",
       "       [77, 98,  6],\n",
       "       [24, 55, 44],\n",
       "       [32, 66, 11],\n",
       "       [98, 33, 44]])"
      ]
     },
     "execution_count": 9,
     "metadata": {},
     "output_type": "execute_result"
    }
   ],
   "source": [
    "arr3"
   ]
  },
  {
   "cell_type": "code",
   "execution_count": 10,
   "id": "ed83967b",
   "metadata": {},
   "outputs": [
    {
     "data": {
      "text/plain": [
       "2"
      ]
     },
     "execution_count": 10,
     "metadata": {},
     "output_type": "execute_result"
    }
   ],
   "source": [
    "arr3.ndim"
   ]
  },
  {
   "cell_type": "code",
   "execution_count": 11,
   "id": "687f8eec",
   "metadata": {},
   "outputs": [],
   "source": [
    "arr4=np.array([[[1,23,33],[2,22,54],[5,6,8]],[[10,20,30],[25,22,55],[50,60,80]]])"
   ]
  },
  {
   "cell_type": "code",
   "execution_count": 12,
   "id": "50dba101",
   "metadata": {},
   "outputs": [
    {
     "data": {
      "text/plain": [
       "array([[[ 1, 23, 33],\n",
       "        [ 2, 22, 54],\n",
       "        [ 5,  6,  8]],\n",
       "\n",
       "       [[10, 20, 30],\n",
       "        [25, 22, 55],\n",
       "        [50, 60, 80]]])"
      ]
     },
     "execution_count": 12,
     "metadata": {},
     "output_type": "execute_result"
    }
   ],
   "source": [
    "arr4"
   ]
  },
  {
   "cell_type": "code",
   "execution_count": 13,
   "id": "966983a4",
   "metadata": {},
   "outputs": [
    {
     "data": {
      "text/plain": [
       "3"
      ]
     },
     "execution_count": 13,
     "metadata": {},
     "output_type": "execute_result"
    }
   ],
   "source": [
    "arr4.ndim"
   ]
  },
  {
   "cell_type": "code",
   "execution_count": 14,
   "id": "070f48a1",
   "metadata": {},
   "outputs": [
    {
     "data": {
      "text/plain": [
       "23"
      ]
     },
     "execution_count": 14,
     "metadata": {},
     "output_type": "execute_result"
    }
   ],
   "source": [
    "arr2[0,2]"
   ]
  },
  {
   "cell_type": "code",
   "execution_count": 15,
   "id": "0d358c6f",
   "metadata": {},
   "outputs": [
    {
     "data": {
      "text/plain": [
       "array([56,  3])"
      ]
     },
     "execution_count": 15,
     "metadata": {},
     "output_type": "execute_result"
    }
   ],
   "source": [
    "arr2[1,0:2]"
   ]
  },
  {
   "cell_type": "code",
   "execution_count": 16,
   "id": "db17303e",
   "metadata": {},
   "outputs": [
    {
     "data": {
      "text/plain": [
       "54"
      ]
     },
     "execution_count": 16,
     "metadata": {},
     "output_type": "execute_result"
    }
   ],
   "source": [
    "arr4[0,1,2]"
   ]
  },
  {
   "cell_type": "code",
   "execution_count": 17,
   "id": "6c468ed6",
   "metadata": {},
   "outputs": [
    {
     "data": {
      "text/plain": [
       "array([22, 55])"
      ]
     },
     "execution_count": 17,
     "metadata": {},
     "output_type": "execute_result"
    }
   ],
   "source": [
    "arr4[1,1,1:3]"
   ]
  },
  {
   "cell_type": "code",
   "execution_count": 18,
   "id": "9f7ba767",
   "metadata": {},
   "outputs": [
    {
     "data": {
      "text/plain": [
       "(2, 3, 3)"
      ]
     },
     "execution_count": 18,
     "metadata": {},
     "output_type": "execute_result"
    }
   ],
   "source": [
    "arr4.shape"
   ]
  },
  {
   "cell_type": "code",
   "execution_count": 19,
   "id": "660dce5a",
   "metadata": {},
   "outputs": [],
   "source": [
    "temperature_data = [25.3, 26.1, 24.8, 23.5, 27.2]\n",
    "pressure_data = [101.2, 100.8, 101.5, 100.2, 101.0]\n",
    "humidity_data = [55.2, 54.8, 56.5, 53.7, 55.9]"
   ]
  },
  {
   "cell_type": "code",
   "execution_count": 20,
   "id": "b7903ff8",
   "metadata": {},
   "outputs": [],
   "source": [
    "temparr=np.array(temperature_data)\n",
    "pressarr=np.array(pressure_data)\n",
    "humarr=np.array(humidity_data)"
   ]
  },
  {
   "cell_type": "code",
   "execution_count": 21,
   "id": "2ed2dee4",
   "metadata": {},
   "outputs": [],
   "source": [
    "tempmean=np.mean(temparr)"
   ]
  },
  {
   "cell_type": "code",
   "execution_count": 22,
   "id": "f03ab863",
   "metadata": {},
   "outputs": [
    {
     "data": {
      "text/plain": [
       "25.380000000000003"
      ]
     },
     "execution_count": 22,
     "metadata": {},
     "output_type": "execute_result"
    }
   ],
   "source": [
    "tempmean"
   ]
  },
  {
   "cell_type": "code",
   "execution_count": 23,
   "id": "6d69f132",
   "metadata": {},
   "outputs": [],
   "source": [
    "tempmin=np.mean(temparr)"
   ]
  },
  {
   "cell_type": "code",
   "execution_count": 24,
   "id": "9e020511",
   "metadata": {},
   "outputs": [
    {
     "data": {
      "text/plain": [
       "25.380000000000003"
      ]
     },
     "execution_count": 24,
     "metadata": {},
     "output_type": "execute_result"
    }
   ],
   "source": [
    "tempmin"
   ]
  },
  {
   "cell_type": "code",
   "execution_count": null,
   "id": "9b297142",
   "metadata": {},
   "outputs": [],
   "source": []
  }
 ],
 "metadata": {
  "kernelspec": {
   "display_name": "Python 3 (ipykernel)",
   "language": "python",
   "name": "python3"
  },
  "language_info": {
   "codemirror_mode": {
    "name": "ipython",
    "version": 3
   },
   "file_extension": ".py",
   "mimetype": "text/x-python",
   "name": "python",
   "nbconvert_exporter": "python",
   "pygments_lexer": "ipython3",
   "version": "3.11.4"
  }
 },
 "nbformat": 4,
 "nbformat_minor": 5
}
