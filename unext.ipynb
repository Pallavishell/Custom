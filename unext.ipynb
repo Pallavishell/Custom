{
 "cells": [
  {
   "cell_type": "markdown",
   "id": "d1a7177f",
   "metadata": {},
   "source": [
    "python fundamental data types"
   ]
  },
  {
   "cell_type": "code",
   "execution_count": 6,
   "id": "dbd8b484",
   "metadata": {},
   "outputs": [
    {
     "name": "stdout",
     "output_type": "stream",
     "text": [
      "welcome\n"
     ]
    }
   ],
   "source": [
    "print('welcome')"
   ]
  },
  {
   "cell_type": "code",
   "execution_count": 7,
   "id": "d18aa4a9",
   "metadata": {},
   "outputs": [
    {
     "name": "stdout",
     "output_type": "stream",
     "text": [
      "<class 'int'>\n",
      "10\n"
     ]
    }
   ],
   "source": [
    "a=10\n",
    "type(a)\n",
    "print(type(a))\n",
    "print(a)"
   ]
  },
  {
   "cell_type": "code",
   "execution_count": 8,
   "id": "8d1902d0",
   "metadata": {
    "scrolled": true
   },
   "outputs": [
    {
     "data": {
      "text/plain": [
       "float"
      ]
     },
     "execution_count": 8,
     "metadata": {},
     "output_type": "execute_result"
    }
   ],
   "source": [
    "a=10.0\n",
    "type(a)"
   ]
  },
  {
   "cell_type": "code",
   "execution_count": 9,
   "id": "cd8aab28",
   "metadata": {},
   "outputs": [
    {
     "name": "stdout",
     "output_type": "stream",
     "text": [
      "python\n"
     ]
    }
   ],
   "source": [
    "b='python'\n",
    "type(b)\n",
    "print(b)"
   ]
  },
  {
   "cell_type": "code",
   "execution_count": 12,
   "id": "424ff1dc",
   "metadata": {},
   "outputs": [
    {
     "name": "stdout",
     "output_type": "stream",
     "text": [
      "date\n",
      "engineeirng\n",
      "python\n",
      "\n"
     ]
    }
   ],
   "source": [
    "e='''date\n",
    "engineeirng\n",
    "python\n",
    "'''\n",
    "print(e)\n"
   ]
  },
  {
   "cell_type": "code",
   "execution_count": 13,
   "id": "ed97fb47",
   "metadata": {},
   "outputs": [
    {
     "data": {
      "text/plain": [
       "bool"
      ]
     },
     "execution_count": 13,
     "metadata": {},
     "output_type": "execute_result"
    }
   ],
   "source": [
    "a=True\n",
    "type(a)"
   ]
  },
  {
   "cell_type": "code",
   "execution_count": 14,
   "id": "3dd77f5d",
   "metadata": {},
   "outputs": [
    {
     "data": {
      "text/plain": [
       "str"
      ]
     },
     "execution_count": 14,
     "metadata": {},
     "output_type": "execute_result"
    }
   ],
   "source": [
    "a='True'\n",
    "type(a)"
   ]
  },
  {
   "cell_type": "code",
   "execution_count": 15,
   "id": "a7496c19",
   "metadata": {},
   "outputs": [
    {
     "ename": "NameError",
     "evalue": "name 'true' is not defined",
     "output_type": "error",
     "traceback": [
      "\u001b[0;31m---------------------------------------------------------------------------\u001b[0m",
      "\u001b[0;31mNameError\u001b[0m                                 Traceback (most recent call last)",
      "Cell \u001b[0;32mIn[15], line 1\u001b[0m\n\u001b[0;32m----> 1\u001b[0m a\u001b[38;5;241m=\u001b[39mtrue\n\u001b[1;32m      2\u001b[0m \u001b[38;5;28mtype\u001b[39m(a)\n",
      "\u001b[0;31mNameError\u001b[0m: name 'true' is not defined"
     ]
    }
   ],
   "source": [
    "a=true\n",
    "type(a)"
   ]
  },
  {
   "cell_type": "code",
   "execution_count": 16,
   "id": "939fd9b1",
   "metadata": {},
   "outputs": [
    {
     "name": "stdout",
     "output_type": "stream",
     "text": [
      "2\n"
     ]
    }
   ],
   "source": [
    "print(True+True)"
   ]
  },
  {
   "cell_type": "code",
   "execution_count": 17,
   "id": "530503cf",
   "metadata": {},
   "outputs": [
    {
     "name": "stdout",
     "output_type": "stream",
     "text": [
      "True\n"
     ]
    }
   ],
   "source": [
    "a=10\n",
    "b=5\n",
    "c=a>b\n",
    "print(c)"
   ]
  },
  {
   "cell_type": "code",
   "execution_count": 18,
   "id": "bd145bf1",
   "metadata": {},
   "outputs": [
    {
     "name": "stdout",
     "output_type": "stream",
     "text": [
      "1\n"
     ]
    }
   ],
   "source": [
    "print(True-False)"
   ]
  },
  {
   "cell_type": "code",
   "execution_count": 19,
   "id": "8c7dd1e1",
   "metadata": {},
   "outputs": [
    {
     "name": "stdout",
     "output_type": "stream",
     "text": [
      "(10+20j)\n"
     ]
    }
   ],
   "source": [
    "c=10+20j\n",
    "print(c)"
   ]
  },
  {
   "cell_type": "code",
   "execution_count": 20,
   "id": "8fdeb8c5",
   "metadata": {},
   "outputs": [
    {
     "name": "stdout",
     "output_type": "stream",
     "text": [
      "8885288\n"
     ]
    }
   ],
   "source": [
    "a=10\n",
    "print(id(a))"
   ]
  },
  {
   "cell_type": "code",
   "execution_count": 22,
   "id": "8cef9cc5",
   "metadata": {},
   "outputs": [
    {
     "name": "stdout",
     "output_type": "stream",
     "text": [
      "8885288\n"
     ]
    }
   ],
   "source": [
    "b=10\n",
    "print(id(b))"
   ]
  },
  {
   "cell_type": "code",
   "execution_count": 23,
   "id": "2897db1a",
   "metadata": {},
   "outputs": [
    {
     "name": "stdout",
     "output_type": "stream",
     "text": [
      "8885608\n"
     ]
    }
   ],
   "source": [
    "a=20\n",
    "print(id(a))"
   ]
  },
  {
   "cell_type": "code",
   "execution_count": 24,
   "id": "b0cd64bf",
   "metadata": {},
   "outputs": [],
   "source": [
    "s='data engineering'\n"
   ]
  },
  {
   "cell_type": "code",
   "execution_count": 25,
   "id": "810aa2de",
   "metadata": {},
   "outputs": [
    {
     "data": {
      "text/plain": [
       "'n'"
      ]
     },
     "execution_count": 25,
     "metadata": {},
     "output_type": "execute_result"
    }
   ],
   "source": [
    "s[-2]"
   ]
  },
  {
   "cell_type": "code",
   "execution_count": 26,
   "id": "fa8bfd2b",
   "metadata": {},
   "outputs": [
    {
     "data": {
      "text/plain": [
       "'data'"
      ]
     },
     "execution_count": 26,
     "metadata": {},
     "output_type": "execute_result"
    }
   ],
   "source": [
    "s[0:4]"
   ]
  },
  {
   "cell_type": "code",
   "execution_count": 29,
   "id": "d7a435e2",
   "metadata": {},
   "outputs": [],
   "source": [
    "s='cghchgmnocghghfvhh'"
   ]
  },
  {
   "cell_type": "code",
   "execution_count": 31,
   "id": "31d4efca",
   "metadata": {},
   "outputs": [
    {
     "data": {
      "text/plain": [
       "'mno'"
      ]
     },
     "execution_count": 31,
     "metadata": {},
     "output_type": "execute_result"
    }
   ],
   "source": [
    "s[6:9]"
   ]
  },
  {
   "cell_type": "code",
   "execution_count": 32,
   "id": "96a83346",
   "metadata": {},
   "outputs": [
    {
     "data": {
      "text/plain": [
       "'chgmnocghghfvhh'"
      ]
     },
     "execution_count": 32,
     "metadata": {},
     "output_type": "execute_result"
    }
   ],
   "source": [
    "s[3:]"
   ]
  },
  {
   "cell_type": "code",
   "execution_count": 33,
   "id": "83ea528e",
   "metadata": {},
   "outputs": [
    {
     "data": {
      "text/plain": [
       "'cghchgmnocghgh'"
      ]
     },
     "execution_count": 33,
     "metadata": {},
     "output_type": "execute_result"
    }
   ],
   "source": [
    "s[:14]"
   ]
  },
  {
   "cell_type": "code",
   "execution_count": 34,
   "id": "18c2daf0",
   "metadata": {},
   "outputs": [
    {
     "data": {
      "text/plain": [
       "'chgmnocghghfvhh'"
      ]
     },
     "execution_count": 34,
     "metadata": {},
     "output_type": "execute_result"
    }
   ],
   "source": [
    "s[3:1000]"
   ]
  },
  {
   "cell_type": "code",
   "execution_count": 1,
   "id": "9e7afed7",
   "metadata": {},
   "outputs": [],
   "source": [
    "\n",
    "is_geological_survey_complete = True\n",
    "\n",
    "is_environmental_clearance_received = True\n",
    "\n",
    "is_market_demand_high = False\n",
    "\n",
    "\n",
    "\n",
    "should_start_drilling = is_geological_survey_complete and is_environmental_clearance_received and is_market_demand_high"
   ]
  },
  {
   "cell_type": "code",
   "execution_count": 3,
   "id": "0d6034e4",
   "metadata": {},
   "outputs": [
    {
     "name": "stdout",
     "output_type": "stream",
     "text": [
      "False\n"
     ]
    }
   ],
   "source": [
    "print(should_start_drilling)"
   ]
  },
  {
   "cell_type": "code",
   "execution_count": 4,
   "id": "d1f60624",
   "metadata": {},
   "outputs": [
    {
     "data": {
      "text/plain": [
       "40"
      ]
     },
     "execution_count": 4,
     "metadata": {},
     "output_type": "execute_result"
    }
   ],
   "source": [
    "10+30"
   ]
  },
  {
   "cell_type": "code",
   "execution_count": 5,
   "id": "e71f034d",
   "metadata": {},
   "outputs": [
    {
     "data": {
      "text/plain": [
       "'ten10'"
      ]
     },
     "execution_count": 5,
     "metadata": {},
     "output_type": "execute_result"
    }
   ],
   "source": [
    "\"ten\"+'10'"
   ]
  },
  {
   "cell_type": "code",
   "execution_count": 6,
   "id": "2e182e6e",
   "metadata": {},
   "outputs": [
    {
     "data": {
      "text/plain": [
       "'tenten'"
      ]
     },
     "execution_count": 6,
     "metadata": {},
     "output_type": "execute_result"
    }
   ],
   "source": [
    "'ten'*2"
   ]
  },
  {
   "cell_type": "code",
   "execution_count": 7,
   "id": "e96da341",
   "metadata": {},
   "outputs": [
    {
     "data": {
      "text/plain": [
       "200"
      ]
     },
     "execution_count": 7,
     "metadata": {},
     "output_type": "execute_result"
    }
   ],
   "source": [
    "10*20"
   ]
  },
  {
   "cell_type": "code",
   "execution_count": 8,
   "id": "b61a1ad1",
   "metadata": {},
   "outputs": [],
   "source": [
    "# Boolean Variables\n",
    "HasExplorationPermit = True\n",
    "HasDrillingRights = True\n",
    "HasEnvironmentalApproval = False\n",
    "HasOilDiscovery = True\n",
    "\n",
    " \n",
    "\n",
    "# Logical Operations\n",
    "IsExplorationAllowed = HasExplorationPermit and HasDrillingRights and not HasEnvironmentalApproval\n",
    "IsDiscoveryProfitable = HasOilDiscovery and (HasExplorationPermit or HasDrillingRights)"
   ]
  },
  {
   "cell_type": "code",
   "execution_count": 9,
   "id": "eae12e6a",
   "metadata": {},
   "outputs": [
    {
     "name": "stdout",
     "output_type": "stream",
     "text": [
      "True\n"
     ]
    }
   ],
   "source": [
    "print(IsExplorationAllowed)"
   ]
  },
  {
   "cell_type": "code",
   "execution_count": 10,
   "id": "6184a9bc",
   "metadata": {},
   "outputs": [
    {
     "name": "stdout",
     "output_type": "stream",
     "text": [
      "True\n"
     ]
    }
   ],
   "source": [
    "print(IsDiscoveryProfitable)"
   ]
  },
  {
   "cell_type": "markdown",
   "id": "17a18f22",
   "metadata": {},
   "source": [
    "    List:\n",
    "    1. hetrogenous objects are allowed.\n",
    "    2. duplicates are allowed.\n",
    "    3. indexing and slicing are possible.\n",
    "    4. mutale"
   ]
  },
  {
   "cell_type": "code",
   "execution_count": 11,
   "id": "124bced7",
   "metadata": {},
   "outputs": [],
   "source": [
    "a=[10,'pyhton',10,19.5, True]"
   ]
  },
  {
   "cell_type": "code",
   "execution_count": 12,
   "id": "398ef9c4",
   "metadata": {},
   "outputs": [
    {
     "name": "stdout",
     "output_type": "stream",
     "text": [
      "[10, 'pyhton', 10, 19.5, True]\n"
     ]
    }
   ],
   "source": [
    "print(a)"
   ]
  },
  {
   "cell_type": "code",
   "execution_count": 13,
   "id": "714525b6",
   "metadata": {},
   "outputs": [
    {
     "name": "stdout",
     "output_type": "stream",
     "text": [
      "<class 'list'>\n"
     ]
    }
   ],
   "source": [
    "print(type(a))"
   ]
  },
  {
   "cell_type": "code",
   "execution_count": 14,
   "id": "0c901fa9",
   "metadata": {},
   "outputs": [
    {
     "data": {
      "text/plain": [
       "10"
      ]
     },
     "execution_count": 14,
     "metadata": {},
     "output_type": "execute_result"
    }
   ],
   "source": [
    "a[0]"
   ]
  },
  {
   "cell_type": "code",
   "execution_count": 15,
   "id": "8424c1b7",
   "metadata": {},
   "outputs": [
    {
     "data": {
      "text/plain": [
       "True"
      ]
     },
     "execution_count": 15,
     "metadata": {},
     "output_type": "execute_result"
    }
   ],
   "source": [
    "a[-1]"
   ]
  },
  {
   "cell_type": "code",
   "execution_count": 16,
   "id": "1e8e51c3",
   "metadata": {},
   "outputs": [
    {
     "data": {
      "text/plain": [
       "['pyhton', 10, 19.5, True]"
      ]
     },
     "execution_count": 16,
     "metadata": {},
     "output_type": "execute_result"
    }
   ],
   "source": [
    "a[1:]"
   ]
  },
  {
   "cell_type": "code",
   "execution_count": 19,
   "id": "e2571021",
   "metadata": {},
   "outputs": [
    {
     "data": {
      "text/plain": [
       "139776610213120"
      ]
     },
     "execution_count": 19,
     "metadata": {},
     "output_type": "execute_result"
    }
   ],
   "source": [
    "id(a)"
   ]
  },
  {
   "cell_type": "code",
   "execution_count": 17,
   "id": "982fd255",
   "metadata": {},
   "outputs": [],
   "source": [
    "a.append(888)"
   ]
  },
  {
   "cell_type": "code",
   "execution_count": 18,
   "id": "51581567",
   "metadata": {},
   "outputs": [
    {
     "name": "stdout",
     "output_type": "stream",
     "text": [
      "[10, 'pyhton', 10, 19.5, True, 888]\n"
     ]
    }
   ],
   "source": [
    "print(a)"
   ]
  },
  {
   "cell_type": "code",
   "execution_count": 20,
   "id": "752e87cc",
   "metadata": {},
   "outputs": [
    {
     "data": {
      "text/plain": [
       "139776610213120"
      ]
     },
     "execution_count": 20,
     "metadata": {},
     "output_type": "execute_result"
    }
   ],
   "source": [
    "id(a)"
   ]
  },
  {
   "cell_type": "code",
   "execution_count": 21,
   "id": "9225ecc5",
   "metadata": {},
   "outputs": [],
   "source": [
    "a.remove(10)"
   ]
  },
  {
   "cell_type": "markdown",
   "id": "cdd7931e",
   "metadata": {},
   "source": [
    "Tuple:\n",
    "1. ( )\n",
    "2. tuple is exactly same as list : only if difference in tuple is immutable."
   ]
  },
  {
   "cell_type": "code",
   "execution_count": 22,
   "id": "fb22933c",
   "metadata": {},
   "outputs": [],
   "source": [
    "a = (\"well A\", \"2023-09-15\", 'pipeline',True,100,300)"
   ]
  },
  {
   "cell_type": "code",
   "execution_count": 23,
   "id": "0a2e879b",
   "metadata": {},
   "outputs": [
    {
     "data": {
      "text/plain": [
       "tuple"
      ]
     },
     "execution_count": 23,
     "metadata": {},
     "output_type": "execute_result"
    }
   ],
   "source": [
    "type(a)"
   ]
  },
  {
   "cell_type": "code",
   "execution_count": 24,
   "id": "e2a829d3",
   "metadata": {},
   "outputs": [
    {
     "name": "stdout",
     "output_type": "stream",
     "text": [
      "('well A', '2023-09-15', 'pipeline', True, 100, 300)\n"
     ]
    }
   ],
   "source": [
    "print(a)"
   ]
  },
  {
   "cell_type": "code",
   "execution_count": 25,
   "id": "369fd5da",
   "metadata": {},
   "outputs": [
    {
     "data": {
      "text/plain": [
       "'pipeline'"
      ]
     },
     "execution_count": 25,
     "metadata": {},
     "output_type": "execute_result"
    }
   ],
   "source": [
    "a[2]"
   ]
  },
  {
   "cell_type": "code",
   "execution_count": 26,
   "id": "4e5c7d57",
   "metadata": {},
   "outputs": [
    {
     "ename": "AttributeError",
     "evalue": "'tuple' object has no attribute 'append'",
     "output_type": "error",
     "traceback": [
      "\u001b[0;31m---------------------------------------------------------------------------\u001b[0m",
      "\u001b[0;31mAttributeError\u001b[0m                            Traceback (most recent call last)",
      "Cell \u001b[0;32mIn[26], line 1\u001b[0m\n\u001b[0;32m----> 1\u001b[0m a\u001b[38;5;241m.\u001b[39mappend(\u001b[38;5;241m888\u001b[39m)\n",
      "\u001b[0;31mAttributeError\u001b[0m: 'tuple' object has no attribute 'append'"
     ]
    }
   ],
   "source": [
    "a.append(888)"
   ]
  },
  {
   "cell_type": "code",
   "execution_count": 29,
   "id": "426087d0",
   "metadata": {},
   "outputs": [],
   "source": [
    "n= 'pallavi'\n",
    "d = 'de'"
   ]
  },
  {
   "cell_type": "code",
   "execution_count": 30,
   "id": "0bc518eb",
   "metadata": {},
   "outputs": [
    {
     "name": "stdout",
     "output_type": "stream",
     "text": [
      "i am pallavi working as de\n"
     ]
    }
   ],
   "source": [
    "print('i am {} working as {}'.format(n,d))"
   ]
  },
  {
   "cell_type": "code",
   "execution_count": null,
   "id": "9c385292",
   "metadata": {},
   "outputs": [],
   "source": [
    "print(' i am %s working as %s'%)"
   ]
  },
  {
   "cell_type": "code",
   "execution_count": 33,
   "id": "8d9ad2b9",
   "metadata": {},
   "outputs": [],
   "source": [
    "name = \"John Doe\"\n",
    "job_title = \"Senior Geologist\"\n",
    "department = \"Geology\"\n",
    "email = \"johndoe@email.com\"\n",
    "phone = \"123-456-7890\""
   ]
  },
  {
   "cell_type": "code",
   "execution_count": 35,
   "id": "b8d623bb",
   "metadata": {},
   "outputs": [],
   "source": [
    "employee_info=f\"Employee Information: \\nName: {name} \\nJob Title:{job_title} \\nDepartment: {department} \\nEmail:{email} \\nPhone:{phone} \""
   ]
  },
  {
   "cell_type": "code",
   "execution_count": 36,
   "id": "bb6fbfe4",
   "metadata": {},
   "outputs": [
    {
     "name": "stdout",
     "output_type": "stream",
     "text": [
      "Employee Information: \n",
      "Name: John Doe \n",
      "Job Title:Senior Geologist \n",
      "Department: Geology \n",
      "Email:johndoe@email.com \n",
      "Phone:123-456-7890 \n"
     ]
    }
   ],
   "source": [
    "print(employee_info)"
   ]
  },
  {
   "cell_type": "markdown",
   "id": "f7fa295f",
   "metadata": {},
   "source": [
    "SET:\n",
    "    1. hetrogeneous object\n",
    "    2. duplicate not allowed\n",
    "    3. order not preserved.\n",
    "    4. slicing and indexing are not possible."
   ]
  },
  {
   "cell_type": "code",
   "execution_count": 38,
   "id": "3ab1b551",
   "metadata": {},
   "outputs": [
    {
     "name": "stdout",
     "output_type": "stream",
     "text": [
      "Is Hydrotreating Unit installed? True\n",
      "Is Thermal Cracking Unit obsolete? True\n"
     ]
    }
   ],
   "source": [
    "# List of Equipment\n",
    "refineryEquipment = [\"Crude Distillation Unit\", \"Catalytic Cracking Unit\", \"Hydrotreating Unit\", \"FCC Unit\"]\n",
    "\n",
    " \n",
    "\n",
    "# Membership Operator\n",
    "IsUnitInstalled = \"Hydrotreating Unit\" in refineryEquipment\n",
    "IsUnitObsolete = \"Thermal Cracking Unit\" not in refineryEquipment\n",
    "\n",
    " \n",
    "\n",
    "print(\"Is Hydrotreating Unit installed?\", IsUnitInstalled)\n",
    "print(\"Is Thermal Cracking Unit obsolete?\", IsUnitObsolete)"
   ]
  },
  {
   "cell_type": "code",
   "execution_count": 40,
   "id": "d8084651",
   "metadata": {},
   "outputs": [],
   "source": [
    "employees = [\n",
    "    \"John Doe, Senior Geologist, Geology, johndoe@email.com, 123-456-7890\",\n",
    "    \"Jane Smith, Drilling Engineer, Drilling, janesmith@email.com, 987-654-3210\",\n",
    "    \"Bob Johnson, Reservoir Engineer, Reservoir Engineering, bobjohnson@email.com, 456-789-0123\",\n",
    "    \"Alice Brown, Petrophysicist, Petrophysics, alicebrown@email.com, 789-012-3456\"\n",
    "]"
   ]
  },
  {
   "cell_type": "code",
   "execution_count": 41,
   "id": "4eaa64df",
   "metadata": {},
   "outputs": [],
   "source": [
    "#b. Add a new employee to the end of the list.\n",
    "new_employee = \"Eva Green, Drilling Technician, Drilling, evagreen@email.com, 111-222-3333\""
   ]
  },
  {
   "cell_type": "code",
   "execution_count": 42,
   "id": "d770bed3",
   "metadata": {},
   "outputs": [],
   "source": [
    "employees.append(new_employee)"
   ]
  },
  {
   "cell_type": "code",
   "execution_count": 43,
   "id": "e83023e4",
   "metadata": {},
   "outputs": [
    {
     "name": "stdout",
     "output_type": "stream",
     "text": [
      "['John Doe, Senior Geologist, Geology, johndoe@email.com, 123-456-7890', 'Jane Smith, Drilling Engineer, Drilling, janesmith@email.com, 987-654-3210', 'Bob Johnson, Reservoir Engineer, Reservoir Engineering, bobjohnson@email.com, 456-789-0123', 'Alice Brown, Petrophysicist, Petrophysics, alicebrown@email.com, 789-012-3456', 'Eva Green, Drilling Technician, Drilling, evagreen@email.com, 111-222-3333']\n"
     ]
    }
   ],
   "source": [
    "print(employees)"
   ]
  },
  {
   "cell_type": "code",
   "execution_count": 45,
   "id": "4dec3a38",
   "metadata": {},
   "outputs": [
    {
     "name": "stdout",
     "output_type": "stream",
     "text": [
      "enter current fuel level300\n"
     ]
    }
   ],
   "source": [
    "\n",
    "\n",
    "low_fuel_thresold=1000\n",
    "\n",
    "critical_fuel_thresold=500\n",
    "\n",
    "current_fuel_level=int(input(\"enter current fuel level\"))\n",
    "\n"
   ]
  },
  {
   "cell_type": "code",
   "execution_count": 46,
   "id": "42332e71",
   "metadata": {},
   "outputs": [
    {
     "name": "stdout",
     "output_type": "stream",
     "text": [
      "Critical Fuel Level Reached. Take Immeditate Action\n"
     ]
    }
   ],
   "source": [
    "if(current_fuel_level<critical_fuel_thresold):\n",
    "\n",
    "       print(\"Critical Fuel Level Reached. Take Immeditate Action\")\n",
    "\n",
    " \n",
    "\n",
    "elif current_fuel_level<low_fuel_thresold:\n",
    "\n",
    "      print(\"Send_fuel_low alter\")\n",
    "\n",
    "\n",
    "else:\n",
    "\n",
    "    \"continue fueling\""
   ]
  },
  {
   "cell_type": "code",
   "execution_count": 47,
   "id": "a11c92ea",
   "metadata": {},
   "outputs": [
    {
     "name": "stdout",
     "output_type": "stream",
     "text": [
      "5\n",
      "6\n",
      "7\n",
      "8\n",
      "9\n",
      "10\n",
      "11\n"
     ]
    }
   ],
   "source": [
    "for i in range(5,12):\n",
    "    print(i)"
   ]
  },
  {
   "cell_type": "code",
   "execution_count": 48,
   "id": "371871fb",
   "metadata": {},
   "outputs": [
    {
     "name": "stdout",
     "output_type": "stream",
     "text": [
      "5\n",
      "10\n"
     ]
    }
   ],
   "source": [
    "for i in range(5,12,5):\n",
    "    print(i)"
   ]
  },
  {
   "cell_type": "code",
   "execution_count": 49,
   "id": "a77b1e68",
   "metadata": {},
   "outputs": [],
   "source": [
    "l1 = ['a','b','c']"
   ]
  },
  {
   "cell_type": "code",
   "execution_count": 50,
   "id": "2e30d965",
   "metadata": {},
   "outputs": [],
   "source": [
    "l2 = ['sales','it','finance']"
   ]
  },
  {
   "cell_type": "code",
   "execution_count": 51,
   "id": "a47ee519",
   "metadata": {},
   "outputs": [],
   "source": [
    "l=list(zip(l1,l2))"
   ]
  },
  {
   "cell_type": "code",
   "execution_count": 52,
   "id": "c21ec9ea",
   "metadata": {},
   "outputs": [
    {
     "name": "stdout",
     "output_type": "stream",
     "text": [
      "[('a', 'sales'), ('b', 'it'), ('c', 'finance')]\n"
     ]
    }
   ],
   "source": [
    "print(l)"
   ]
  },
  {
   "cell_type": "code",
   "execution_count": 53,
   "id": "4719ef08",
   "metadata": {},
   "outputs": [],
   "source": [
    "oil_gas_data = [\n",
    "    (\"Field A\", \"Texas\", 500000),\n",
    "    (\"Field B\", \"Alaska\", 800000),\n",
    "    (\"Field C\", \"North Sea\", 300000),\n",
    "    (\"Field D\", \"Gulf of Mexico\", 600000),\n",
    "]"
   ]
  },
  {
   "cell_type": "code",
   "execution_count": 66,
   "id": "dac06075",
   "metadata": {},
   "outputs": [],
   "source": [
    "feildname,location,reserves = zip(*oil_gas_data)"
   ]
  },
  {
   "cell_type": "code",
   "execution_count": 58,
   "id": "183f3fa9",
   "metadata": {},
   "outputs": [
    {
     "name": "stdout",
     "output_type": "stream",
     "text": [
      "('Texas', 'Alaska', 'North Sea', 'Gulf of Mexico')\n"
     ]
    }
   ],
   "source": [
    "print(location)"
   ]
  },
  {
   "cell_type": "code",
   "execution_count": 60,
   "id": "0ddb89c6",
   "metadata": {},
   "outputs": [],
   "source": [
    "e = list(enumerate(location))"
   ]
  },
  {
   "cell_type": "code",
   "execution_count": 61,
   "id": "7bffe924",
   "metadata": {},
   "outputs": [
    {
     "name": "stdout",
     "output_type": "stream",
     "text": [
      "[(0, 'Texas'), (1, 'Alaska'), (2, 'North Sea'), (3, 'Gulf of Mexico')]\n"
     ]
    }
   ],
   "source": [
    "print(e)"
   ]
  },
  {
   "cell_type": "code",
   "execution_count": 62,
   "id": "beb71f76",
   "metadata": {},
   "outputs": [
    {
     "name": "stdout",
     "output_type": "stream",
     "text": [
      "[(0, 'Field A'), (1, 'Field B'), (2, 'Field C'), (3, 'Field D')]\n"
     ]
    }
   ],
   "source": [
    "g=list(enumerate(feildname))\n",
    "print(g)"
   ]
  },
  {
   "cell_type": "code",
   "execution_count": 63,
   "id": "3805e165",
   "metadata": {},
   "outputs": [
    {
     "name": "stdout",
     "output_type": "stream",
     "text": [
      "Field 1: Field A is located in Texas with reserves of 500000 barrels.\n",
      "Field 2: Field B is located in Alaska with reserves of 800000 barrels.\n",
      "Field 3: Field C is located in North Sea with reserves of 300000 barrels.\n",
      "Field 4: Field D is located in Gulf of Mexico with reserves of 600000 barrels.\n"
     ]
    }
   ],
   "source": [
    "for index, field_data in enumerate(oil_gas_data):\n",
    "    field_name, location, reserve = field_data\n",
    "    print(f\"Field {index+1}: {field_name} is located in {location} with reserves of {reserve} barrels.\")"
   ]
  },
  {
   "cell_type": "code",
   "execution_count": 67,
   "id": "ee0188a5",
   "metadata": {},
   "outputs": [],
   "source": [
    "from collections import Counter\n",
    "count_loc = Counter(location)"
   ]
  },
  {
   "cell_type": "code",
   "execution_count": 68,
   "id": "e54dce98",
   "metadata": {},
   "outputs": [
    {
     "name": "stdout",
     "output_type": "stream",
     "text": [
      "Counter({'Texas': 1, 'Alaska': 1, 'North Sea': 1, 'Gulf of Mexico': 1})\n"
     ]
    }
   ],
   "source": [
    "print(count_loc)"
   ]
  },
  {
   "cell_type": "code",
   "execution_count": 2,
   "id": "80fbb5eb",
   "metadata": {},
   "outputs": [],
   "source": [
    "def func():\n",
    "   print(\"hello from my function\")"
   ]
  },
  {
   "cell_type": "code",
   "execution_count": 3,
   "id": "b4828d80",
   "metadata": {},
   "outputs": [
    {
     "name": "stdout",
     "output_type": "stream",
     "text": [
      "hello from my function\n"
     ]
    }
   ],
   "source": [
    "func()"
   ]
  },
  {
   "cell_type": "code",
   "execution_count": 7,
   "id": "c31482b6",
   "metadata": {},
   "outputs": [],
   "source": [
    "def myname(name):\n",
    "    print(\"hello \"+name+\" good morning\")"
   ]
  },
  {
   "cell_type": "code",
   "execution_count": 8,
   "id": "4940027b",
   "metadata": {},
   "outputs": [
    {
     "name": "stdout",
     "output_type": "stream",
     "text": [
      "hello pallavi good morning\n"
     ]
    }
   ],
   "source": [
    "myname(\"pallavi\")"
   ]
  },
  {
   "cell_type": "code",
   "execution_count": 9,
   "id": "1e4f13b4",
   "metadata": {},
   "outputs": [],
   "source": [
    "def sq(a):\n",
    "    print(a*a)"
   ]
  },
  {
   "cell_type": "code",
   "execution_count": 10,
   "id": "a5c3b003",
   "metadata": {},
   "outputs": [
    {
     "name": "stdout",
     "output_type": "stream",
     "text": [
      "25\n"
     ]
    }
   ],
   "source": [
    "sq(5)"
   ]
  },
  {
   "cell_type": "code",
   "execution_count": 12,
   "id": "bd8128b4",
   "metadata": {},
   "outputs": [],
   "source": [
    "def evenodd(no):\n",
    "    if no%2==0:\n",
    "        print(\"the no is even\")\n",
    "    else:\n",
    "        print(\"the no is odd\")"
   ]
  },
  {
   "cell_type": "code",
   "execution_count": 13,
   "id": "3f78e633",
   "metadata": {},
   "outputs": [
    {
     "name": "stdout",
     "output_type": "stream",
     "text": [
      "the no is odd\n"
     ]
    }
   ],
   "source": [
    "evenodd(11)"
   ]
  },
  {
   "cell_type": "code",
   "execution_count": 14,
   "id": "959b93e6",
   "metadata": {},
   "outputs": [],
   "source": [
    "def add(a,b):\n",
    "    return a+b"
   ]
  },
  {
   "cell_type": "code",
   "execution_count": 15,
   "id": "8aabd8af",
   "metadata": {},
   "outputs": [
    {
     "data": {
      "text/plain": [
       "15"
      ]
     },
     "execution_count": 15,
     "metadata": {},
     "output_type": "execute_result"
    }
   ],
   "source": [
    "add(10,5)"
   ]
  },
  {
   "cell_type": "code",
   "execution_count": null,
   "id": "9f852957",
   "metadata": {},
   "outputs": [],
   "source": []
  },
  {
   "cell_type": "markdown",
   "id": "c81a8bd5",
   "metadata": {},
   "source": [
    "types of argument:\n",
    "    1. positional arguments\n",
    "    2. keyword arguments\n",
    "    3. default argument\n",
    "    4. variable length argument"
   ]
  },
  {
   "cell_type": "code",
   "execution_count": 16,
   "id": "c802ef1d",
   "metadata": {},
   "outputs": [],
   "source": [
    "def wish(name, msg):\n",
    "    print(\"hello\",name,msg)"
   ]
  },
  {
   "cell_type": "code",
   "execution_count": 17,
   "id": "7b70d862",
   "metadata": {},
   "outputs": [
    {
     "name": "stdout",
     "output_type": "stream",
     "text": [
      "hello kdc djd\n"
     ]
    }
   ],
   "source": [
    "wish(\"kdc\",\"djd\")\n",
    "#positional"
   ]
  },
  {
   "cell_type": "code",
   "execution_count": 18,
   "id": "ad2cdb7e",
   "metadata": {},
   "outputs": [
    {
     "name": "stdout",
     "output_type": "stream",
     "text": [
      "hello cwjncedc jknfcjfdvnfv\n"
     ]
    }
   ],
   "source": [
    "wish(msg=\"jknfcjfdvnfv\",name=\"cwjncedc\")\n",
    "#positional"
   ]
  },
  {
   "cell_type": "code",
   "execution_count": 19,
   "id": "f7d1da45",
   "metadata": {},
   "outputs": [
    {
     "ename": "TypeError",
     "evalue": "wish() got multiple values for argument 'name'",
     "output_type": "error",
     "traceback": [
      "\u001b[0;31m---------------------------------------------------------------------------\u001b[0m",
      "\u001b[0;31mTypeError\u001b[0m                                 Traceback (most recent call last)",
      "Cell \u001b[0;32mIn[19], line 1\u001b[0m\n\u001b[0;32m----> 1\u001b[0m wish(\u001b[38;5;124m\"\u001b[39m\u001b[38;5;124mjnwdxnwe\u001b[39m\u001b[38;5;124m\"\u001b[39m, name\u001b[38;5;241m=\u001b[39m\u001b[38;5;124m\"\u001b[39m\u001b[38;5;124mjnwjkxnwkxnw\u001b[39m\u001b[38;5;124m\"\u001b[39m)\n",
      "\u001b[0;31mTypeError\u001b[0m: wish() got multiple values for argument 'name'"
     ]
    }
   ],
   "source": [
    "wish(\"jnwdxnwe\", name=\"jnwjkxnwkxnw\")\n",
    "#keyword"
   ]
  },
  {
   "cell_type": "code",
   "execution_count": 20,
   "id": "31acb341",
   "metadata": {},
   "outputs": [
    {
     "name": "stdout",
     "output_type": "stream",
     "text": [
      "hello jnwdxnwe jnwjkxnwkxnw\n"
     ]
    }
   ],
   "source": [
    "wish(\"jnwdxnwe\", msg=\"jnwjkxnwkxnw\")"
   ]
  },
  {
   "cell_type": "code",
   "execution_count": 21,
   "id": "7570046c",
   "metadata": {},
   "outputs": [],
   "source": [
    "def sum(a=2,b=3):\n",
    "    return a+b"
   ]
  },
  {
   "cell_type": "code",
   "execution_count": 22,
   "id": "384b70a8",
   "metadata": {},
   "outputs": [
    {
     "data": {
      "text/plain": [
       "13"
      ]
     },
     "execution_count": 22,
     "metadata": {},
     "output_type": "execute_result"
    }
   ],
   "source": [
    "sum(6,7)"
   ]
  },
  {
   "cell_type": "code",
   "execution_count": 23,
   "id": "1fb09f8b",
   "metadata": {},
   "outputs": [
    {
     "data": {
      "text/plain": [
       "5"
      ]
     },
     "execution_count": 23,
     "metadata": {},
     "output_type": "execute_result"
    }
   ],
   "source": [
    "sum()"
   ]
  },
  {
   "cell_type": "code",
   "execution_count": 24,
   "id": "12396b8a",
   "metadata": {},
   "outputs": [
    {
     "data": {
      "text/plain": [
       "range(0, 10)"
      ]
     },
     "execution_count": 24,
     "metadata": {},
     "output_type": "execute_result"
    }
   ],
   "source": [
    "range(10)"
   ]
  },
  {
   "cell_type": "code",
   "execution_count": 26,
   "id": "120b063b",
   "metadata": {},
   "outputs": [
    {
     "name": "stdout",
     "output_type": "stream",
     "text": [
      "10\n"
     ]
    }
   ],
   "source": [
    "sum=0\n",
    "for i in range(10):\n",
    "    sum=sum+1\n",
    "print(sum)"
   ]
  },
  {
   "cell_type": "code",
   "execution_count": 27,
   "id": "542cc1b9",
   "metadata": {},
   "outputs": [],
   "source": [
    "def sum(a,b):\n",
    "    return a+b"
   ]
  },
  {
   "cell_type": "code",
   "execution_count": 28,
   "id": "e2fa14b2",
   "metadata": {},
   "outputs": [
    {
     "ename": "TypeError",
     "evalue": "sum() takes 2 positional arguments but 3 were given",
     "output_type": "error",
     "traceback": [
      "\u001b[0;31m---------------------------------------------------------------------------\u001b[0m",
      "\u001b[0;31mTypeError\u001b[0m                                 Traceback (most recent call last)",
      "Cell \u001b[0;32mIn[28], line 1\u001b[0m\n\u001b[0;32m----> 1\u001b[0m \u001b[38;5;28msum\u001b[39m(\u001b[38;5;241m10\u001b[39m,\u001b[38;5;241m20\u001b[39m,\u001b[38;5;241m30\u001b[39m)\n",
      "\u001b[0;31mTypeError\u001b[0m: sum() takes 2 positional arguments but 3 were given"
     ]
    }
   ],
   "source": [
    "sum(10,20,30)"
   ]
  },
  {
   "cell_type": "code",
   "execution_count": 37,
   "id": "a9a1f75a",
   "metadata": {},
   "outputs": [],
   "source": [
    "def add(*no):\n",
    "    sum=0\n",
    "    for i in no:\n",
    "        sum=sum+i\n",
    "    print(sum)"
   ]
  },
  {
   "cell_type": "code",
   "execution_count": 38,
   "id": "c079fa60",
   "metadata": {},
   "outputs": [
    {
     "name": "stdout",
     "output_type": "stream",
     "text": [
      "10\n"
     ]
    }
   ],
   "source": [
    "add(1,2,3,4)"
   ]
  },
  {
   "cell_type": "code",
   "execution_count": 39,
   "id": "ad32b402",
   "metadata": {},
   "outputs": [],
   "source": [
    "def func():\n",
    "    print(\"hello\",name,\"you in\",dept,\"loc\",city)"
   ]
  },
  {
   "cell_type": "code",
   "execution_count": 40,
   "id": "3cd86739",
   "metadata": {},
   "outputs": [],
   "source": [
    "def info(**kwashd):\n",
    "    for i, j in kwashd.items():\n",
    "        print(i,j)"
   ]
  },
  {
   "cell_type": "code",
   "execution_count": 41,
   "id": "2c7c8f6e",
   "metadata": {},
   "outputs": [
    {
     "name": "stdout",
     "output_type": "stream",
     "text": [
      "name john\n",
      "age 30\n",
      "city mumbai\n"
     ]
    }
   ],
   "source": [
    "info(name=\"john\",age=30,city=\"mumbai\")"
   ]
  },
  {
   "cell_type": "code",
   "execution_count": 42,
   "id": "75b43b7c",
   "metadata": {},
   "outputs": [
    {
     "name": "stdout",
     "output_type": "stream",
     "text": [
      "name john\n",
      "age 30\n",
      "city mumbai\n",
      "dept it\n"
     ]
    }
   ],
   "source": [
    "info(name=\"john\",age=30,city=\"mumbai\",dept=\"it\")"
   ]
  },
  {
   "cell_type": "code",
   "execution_count": 43,
   "id": "0d68fd16",
   "metadata": {},
   "outputs": [],
   "source": [
    "def person(name,*arg):\n",
    "    print(name)\n",
    "    print(arg)"
   ]
  },
  {
   "cell_type": "code",
   "execution_count": 44,
   "id": "f0e25929",
   "metadata": {},
   "outputs": [
    {
     "name": "stdout",
     "output_type": "stream",
     "text": [
      "paul\n",
      "(30, 'it', 344332, 'fcrf')\n"
     ]
    }
   ],
   "source": [
    "person(\"paul\",30,\"it\",344332,\"fcrf\")"
   ]
  },
  {
   "cell_type": "code",
   "execution_count": 45,
   "id": "558fe639",
   "metadata": {},
   "outputs": [],
   "source": [
    "def person(name, **arg):\n",
    "    print(name)\n",
    "    print(arg)"
   ]
  },
  {
   "cell_type": "code",
   "execution_count": 46,
   "id": "5ba1f05c",
   "metadata": {},
   "outputs": [
    {
     "name": "stdout",
     "output_type": "stream",
     "text": [
      "steve\n",
      "{'age': 10, 'dept': 'it', 'np': 32323232, 'city': 'dcwec'}\n"
     ]
    }
   ],
   "source": [
    "person(\"steve\", age=10, dept=\"it\",np=32323232,city=\"dcwec\")"
   ]
  },
  {
   "cell_type": "code",
   "execution_count": 47,
   "id": "756637ed",
   "metadata": {},
   "outputs": [],
   "source": [
    "def addequ(name, *kwad,**argss):\n",
    "    print(name)\n",
    "    print(*kwad)\n",
    "    print(**argss)"
   ]
  },
  {
   "cell_type": "code",
   "execution_count": 49,
   "id": "95328a91",
   "metadata": {},
   "outputs": [
    {
     "name": "stdout",
     "output_type": "stream",
     "text": [
      "hammer\n",
      "('xsiajxs', 'xiasw', 'ihjsxs') {'saxs': 1, 'sxasa': 2, 'dssa': 3}\n",
      "\n"
     ]
    }
   ],
   "source": [
    "addequ(\"hammer\",(\"xsiajxs\",\"xiasw\",\"ihjsxs\"),{\"saxs\":1,\"sxasa\":2,\"dssa\":3})"
   ]
  },
  {
   "cell_type": "code",
   "execution_count": 54,
   "id": "793d6126",
   "metadata": {},
   "outputs": [],
   "source": [
    "drillingeq=[]"
   ]
  },
  {
   "cell_type": "code",
   "execution_count": 58,
   "id": "ce751723",
   "metadata": {},
   "outputs": [],
   "source": [
    "def addequ(name, *kwad,**argss):\n",
    "    dict={\n",
    "        \"name\":name,\n",
    "        \"details\":kwad,\n",
    "        \"attributes\":argss\n",
    "    }\n",
    "    drillingeq.append(dict)"
   ]
  },
  {
   "cell_type": "code",
   "execution_count": 59,
   "id": "dcbc50af",
   "metadata": {},
   "outputs": [],
   "source": [
    "addequ(\"pump\",\"model x\",100,10,vendor=\"A\")"
   ]
  },
  {
   "cell_type": "code",
   "execution_count": 60,
   "id": "d6650647",
   "metadata": {},
   "outputs": [
    {
     "name": "stdout",
     "output_type": "stream",
     "text": [
      "[<class 'dict'>, {'name': 'pump', 'details': ('model x', 100, 10), 'attributes': {'vendor': 'A'}}]\n"
     ]
    }
   ],
   "source": [
    "print(drillingeq)"
   ]
  },
  {
   "cell_type": "code",
   "execution_count": 64,
   "id": "0cfd3b57",
   "metadata": {},
   "outputs": [],
   "source": [
    "def f(arg1,arg2,arg3=10,arg4=20):\n",
    "    print(arg1,arg2,arg3,arg4)"
   ]
  },
  {
   "cell_type": "code",
   "execution_count": 65,
   "id": "42bc714b",
   "metadata": {},
   "outputs": [
    {
     "name": "stdout",
     "output_type": "stream",
     "text": [
      "10 20 10 20\n"
     ]
    }
   ],
   "source": [
    "f(10,20)"
   ]
  },
  {
   "cell_type": "code",
   "execution_count": 66,
   "id": "827286e1",
   "metadata": {},
   "outputs": [
    {
     "name": "stdout",
     "output_type": "stream",
     "text": [
      "10 20 30 20\n"
     ]
    }
   ],
   "source": [
    "f(10,20,arg3=30)"
   ]
  },
  {
   "cell_type": "code",
   "execution_count": null,
   "id": "10488327",
   "metadata": {},
   "outputs": [],
   "source": []
  }
 ],
 "metadata": {
  "kernelspec": {
   "display_name": "Python 3 (ipykernel)",
   "language": "python",
   "name": "python3"
  },
  "language_info": {
   "codemirror_mode": {
    "name": "ipython",
    "version": 3
   },
   "file_extension": ".py",
   "mimetype": "text/x-python",
   "name": "python",
   "nbconvert_exporter": "python",
   "pygments_lexer": "ipython3",
   "version": "3.11.4"
  }
 },
 "nbformat": 4,
 "nbformat_minor": 5
}
