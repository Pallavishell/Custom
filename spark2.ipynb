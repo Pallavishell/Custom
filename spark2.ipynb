{
 "cells": [
  {
   "cell_type": "code",
   "execution_count": 1,
   "id": "228a5e1e",
   "metadata": {},
   "outputs": [],
   "source": [
    "import findspark"
   ]
  },
  {
   "cell_type": "code",
   "execution_count": 2,
   "id": "ae8c26ea",
   "metadata": {},
   "outputs": [],
   "source": [
    "findspark.init()"
   ]
  },
  {
   "cell_type": "code",
   "execution_count": 3,
   "id": "84236b63",
   "metadata": {},
   "outputs": [],
   "source": [
    "from pyspark.sql import SparkSession"
   ]
  },
  {
   "cell_type": "code",
   "execution_count": 4,
   "id": "c951676b",
   "metadata": {},
   "outputs": [
    {
     "name": "stderr",
     "output_type": "stream",
     "text": [
      "Setting default log level to \"WARN\".\n",
      "To adjust logging level use sc.setLogLevel(newLevel). For SparkR, use setLogLevel(newLevel).\n",
      "23/09/21 08:36:13 WARN NativeCodeLoader: Unable to load native-hadoop library for your platform... using builtin-java classes where applicable\n",
      "23/09/21 08:36:14 WARN Utils: Service 'SparkUI' could not bind on port 4040. Attempting port 4041.\n"
     ]
    }
   ],
   "source": [
    "spark = SparkSession.builder.appName(\"RDDExample\").getOrCreate()"
   ]
  },
  {
   "cell_type": "code",
   "execution_count": 6,
   "id": "e78f8b97",
   "metadata": {},
   "outputs": [],
   "source": [
    "df=spark.createDataFrame([(1,2,3)])"
   ]
  },
  {
   "cell_type": "code",
   "execution_count": 7,
   "id": "bbf04d11",
   "metadata": {},
   "outputs": [
    {
     "name": "stderr",
     "output_type": "stream",
     "text": [
      "                                                                                \r"
     ]
    },
    {
     "name": "stdout",
     "output_type": "stream",
     "text": [
      "+---+---+---+\n",
      "| _1| _2| _3|\n",
      "+---+---+---+\n",
      "|  1|  2|  3|\n",
      "+---+---+---+\n",
      "\n"
     ]
    }
   ],
   "source": [
    "df.show()"
   ]
  },
  {
   "cell_type": "code",
   "execution_count": 8,
   "id": "0064fd53",
   "metadata": {},
   "outputs": [
    {
     "name": "stdout",
     "output_type": "stream",
     "text": [
      "+---+---+-------+----------+-------------------+\n",
      "|  a|  b|      c|         d|                  e|\n",
      "+---+---+-------+----------+-------------------+\n",
      "|  1|2.0|string1|2000-01-01|2000-01-01 12:00:00|\n",
      "|  2|3.0|string2|2000-02-01|2000-01-02 12:00:00|\n",
      "|  4|5.0|string3|2000-03-01|2000-01-03 12:00:00|\n",
      "+---+---+-------+----------+-------------------+\n",
      "\n"
     ]
    }
   ],
   "source": [
    "from datetime import datetime, date\n",
    "import pandas as pd\n",
    "from pyspark.sql import Row\n",
    "\n",
    "df = spark.createDataFrame([\n",
    "    Row(a=1, b=2., c='string1', d=date(2000, 1, 1), e=datetime(2000, 1, 1, 12, 0)),\n",
    "    Row(a=2, b=3., c='string2', d=date(2000, 2, 1), e=datetime(2000, 1, 2, 12, 0)),\n",
    "    Row(a=4, b=5., c='string3', d=date(2000, 3, 1), e=datetime(2000, 1, 3, 12, 0))\n",
    "])\n",
    "df.show()"
   ]
  },
  {
   "cell_type": "code",
   "execution_count": 10,
   "id": "c3edfe72",
   "metadata": {},
   "outputs": [],
   "source": [
    "schema='a long, b double, c string, d date, e timestamp'"
   ]
  },
  {
   "cell_type": "code",
   "execution_count": 13,
   "id": "cc2c2fa5",
   "metadata": {},
   "outputs": [],
   "source": [
    "data = [\n",
    "    (1, 2., 'string1', date(2000, 1, 1), datetime(2000, 1, 1, 12, 0)),\n",
    "    (2, 3., 'string2', date(2000, 2, 1), datetime(2000, 1, 2, 12, 0)),\n",
    "    (3, 4., 'string3', date(2000, 3, 1), datetime(2000, 1, 3, 12, 0))\n",
    "]"
   ]
  },
  {
   "cell_type": "code",
   "execution_count": 14,
   "id": "c44240c3",
   "metadata": {},
   "outputs": [],
   "source": [
    "df1=spark.createDataFrame(data,schema)"
   ]
  },
  {
   "cell_type": "code",
   "execution_count": 15,
   "id": "70bd9e91",
   "metadata": {},
   "outputs": [
    {
     "name": "stdout",
     "output_type": "stream",
     "text": [
      "+---+---+-------+----------+-------------------+\n",
      "|  a|  b|      c|         d|                  e|\n",
      "+---+---+-------+----------+-------------------+\n",
      "|  1|2.0|string1|2000-01-01|2000-01-01 12:00:00|\n",
      "|  2|3.0|string2|2000-02-01|2000-01-02 12:00:00|\n",
      "|  3|4.0|string3|2000-03-01|2000-01-03 12:00:00|\n",
      "+---+---+-------+----------+-------------------+\n",
      "\n"
     ]
    }
   ],
   "source": [
    "df1.show()"
   ]
  },
  {
   "cell_type": "code",
   "execution_count": 18,
   "id": "71741058",
   "metadata": {},
   "outputs": [],
   "source": [
    "data2=[(1,'a','z',777700,'India'),(2,'b','y',9890,'India')]\n",
    "schema2=\"id int, name string, last_name string, mo int, country string\"\n",
    "df2=spark.createDataFrame(data2,schema2)"
   ]
  },
  {
   "cell_type": "code",
   "execution_count": 19,
   "id": "c7f80128",
   "metadata": {},
   "outputs": [
    {
     "name": "stdout",
     "output_type": "stream",
     "text": [
      "+---+----+---------+------+-------+\n",
      "| id|name|last_name|    mo|country|\n",
      "+---+----+---------+------+-------+\n",
      "|  1|   a|        z|777700|  India|\n",
      "|  2|   b|        y|  9890|  India|\n",
      "+---+----+---------+------+-------+\n",
      "\n"
     ]
    }
   ],
   "source": [
    "df2.show()"
   ]
  },
  {
   "cell_type": "code",
   "execution_count": 21,
   "id": "7b44a1c5",
   "metadata": {},
   "outputs": [
    {
     "data": {
      "text/plain": [
       "[('id', 'int'),\n",
       " ('name', 'string'),\n",
       " ('last_name', 'string'),\n",
       " ('mo', 'int'),\n",
       " ('country', 'string')]"
      ]
     },
     "execution_count": 21,
     "metadata": {},
     "output_type": "execute_result"
    }
   ],
   "source": [
    "df2.dtypes"
   ]
  },
  {
   "cell_type": "code",
   "execution_count": 22,
   "id": "368c6fcf",
   "metadata": {},
   "outputs": [
    {
     "name": "stdout",
     "output_type": "stream",
     "text": [
      "+---+----+---------+-------------+-------+\n",
      "| id|name|last_name|mobile_number|country|\n",
      "+---+----+---------+-------------+-------+\n",
      "|  1|   a|        z|       777700|  India|\n",
      "|  2|   b|        y|         9890|  India|\n",
      "+---+----+---------+-------------+-------+\n",
      "\n"
     ]
    }
   ],
   "source": [
    "shem_list=['id','name','last_name','mobile_number','country']\n",
    "df3=spark.createDataFrame(data2,shem_list)\n",
    "df3.show()"
   ]
  },
  {
   "cell_type": "code",
   "execution_count": 23,
   "id": "d5d6df0e",
   "metadata": {},
   "outputs": [
    {
     "name": "stdout",
     "output_type": "stream",
     "text": [
      "root\n",
      " |-- id: long (nullable = true)\n",
      " |-- name: string (nullable = true)\n",
      " |-- last_name: string (nullable = true)\n",
      " |-- mobile_number: long (nullable = true)\n",
      " |-- country: string (nullable = true)\n",
      "\n"
     ]
    }
   ],
   "source": [
    "df3.printSchema()"
   ]
  },
  {
   "cell_type": "code",
   "execution_count": 25,
   "id": "acbd9518",
   "metadata": {},
   "outputs": [
    {
     "name": "stdout",
     "output_type": "stream",
     "text": [
      "+--------+-----+---+\n",
      "|amt_paid|fname| id|\n",
      "+--------+-----+---+\n",
      "|    1000|    a|  1|\n",
      "|    1200|    b|  2|\n",
      "+--------+-----+---+\n",
      "\n"
     ]
    }
   ],
   "source": [
    "\n",
    "\n",
    "users=[{'id':1,'fname':'a','amt_paid':1000},{'id':2,'fname':'b','amt_paid':1200}] #json file format\n",
    "\n",
    "df4=spark.createDataFrame(users)\n",
    "\n",
    "df4.show() #table has columns arranged in ascending order"
   ]
  },
  {
   "cell_type": "code",
   "execution_count": 30,
   "id": "3e4346ad",
   "metadata": {},
   "outputs": [],
   "source": [
    "df=spark.read.csv('emp.csv')"
   ]
  },
  {
   "cell_type": "code",
   "execution_count": 31,
   "id": "d909645d",
   "metadata": {},
   "outputs": [
    {
     "name": "stdout",
     "output_type": "stream",
     "text": [
      "+----------+------+----------+---------------+------+-------+-----------------+--------------------+\n",
      "|       _c0|   _c1|       _c2|            _c3|   _c4|    _c5|              _c6|                 _c7|\n",
      "+----------+------+----------+---------------+------+-------+-----------------+--------------------+\n",
      "|First Name|Gender|Start Date|Last Login Time|Salary|Bonus %|Senior Management|                Team|\n",
      "|   Douglas|  Male|  8/6/1993|       12:42 PM| 97308|  6.945|             true|           Marketing|\n",
      "|    Thomas|  Male| 3/31/1996|        6:53 AM| 61933|   4.17|             true|                null|\n",
      "|     Maria|Female| 4/23/1993|       11:17 AM|130590| 11.858|            false|             Finance|\n",
      "|     Jerry|  Male|  3/4/2005|        1:00 PM|138705|   9.34|             true|             Finance|\n",
      "|     Larry|  Male| 1/24/1998|        4:47 PM|101004|  1.389|             true|     Client Services|\n",
      "|    Dennis|  Male| 4/18/1987|        1:35 AM|115163| 10.125|            false|               Legal|\n",
      "|      Ruby|Female| 8/17/1987|        4:20 PM| 65476| 10.012|             true|             Product|\n",
      "|      null|Female| 7/20/2015|       10:43 AM| 45906| 11.598|             null|             Finance|\n",
      "|    Angela|Female|11/22/2005|        6:29 AM| 95570| 18.523|             true|         Engineering|\n",
      "|   Frances|Female|  8/8/2002|        6:51 AM|139852|  7.524|             true|Business Development|\n",
      "|    Louise|Female| 8/12/1980|        9:01 AM| 63241| 15.132|             true|                null|\n",
      "|     Julie|Female|10/26/1997|        3:19 PM|102508| 12.637|             true|               Legal|\n",
      "|   Brandon|  Male| 12/1/1980|        1:08 AM|112807| 17.492|             true|     Human Resources|\n",
      "|      Gary|  Male| 1/27/2008|       11:40 PM|109831|  5.831|            false|               Sales|\n",
      "|  Kimberly|Female| 1/14/1999|        7:13 AM| 41426| 14.543|             true|             Finance|\n",
      "|   Lillian|Female|  6/5/2016|        6:09 AM| 59414|  1.256|            false|             Product|\n",
      "|    Jeremy|  Male| 9/21/2010|        5:56 AM| 90370|  7.369|            false|     Human Resources|\n",
      "|     Shawn|  Male| 12/7/1986|        7:45 PM|111737|  6.414|            false|             Product|\n",
      "|     Diana|Female|10/23/1981|       10:27 AM|132940| 19.082|            false|     Client Services|\n",
      "+----------+------+----------+---------------+------+-------+-----------------+--------------------+\n",
      "only showing top 20 rows\n",
      "\n"
     ]
    }
   ],
   "source": [
    "df.show()"
   ]
  },
  {
   "cell_type": "code",
   "execution_count": 33,
   "id": "baf91089",
   "metadata": {},
   "outputs": [
    {
     "name": "stdout",
     "output_type": "stream",
     "text": [
      "root\n",
      " |-- _c0: string (nullable = true)\n",
      " |-- _c1: string (nullable = true)\n",
      " |-- _c2: string (nullable = true)\n",
      " |-- _c3: string (nullable = true)\n",
      " |-- _c4: string (nullable = true)\n",
      " |-- _c5: string (nullable = true)\n",
      " |-- _c6: string (nullable = true)\n",
      " |-- _c7: string (nullable = true)\n",
      "\n"
     ]
    }
   ],
   "source": [
    "df.printSchema()"
   ]
  },
  {
   "cell_type": "code",
   "execution_count": 34,
   "id": "b421ac16",
   "metadata": {},
   "outputs": [],
   "source": [
    "df=spark.read.option(\"header\",True).csv(\"emp.csv\")"
   ]
  },
  {
   "cell_type": "code",
   "execution_count": 35,
   "id": "48696462",
   "metadata": {},
   "outputs": [
    {
     "name": "stdout",
     "output_type": "stream",
     "text": [
      "+----------+------+----------+---------------+------+-------+-----------------+--------------------+\n",
      "|First Name|Gender|Start Date|Last Login Time|Salary|Bonus %|Senior Management|                Team|\n",
      "+----------+------+----------+---------------+------+-------+-----------------+--------------------+\n",
      "|   Douglas|  Male|  8/6/1993|       12:42 PM| 97308|  6.945|             true|           Marketing|\n",
      "|    Thomas|  Male| 3/31/1996|        6:53 AM| 61933|   4.17|             true|                null|\n",
      "|     Maria|Female| 4/23/1993|       11:17 AM|130590| 11.858|            false|             Finance|\n",
      "|     Jerry|  Male|  3/4/2005|        1:00 PM|138705|   9.34|             true|             Finance|\n",
      "|     Larry|  Male| 1/24/1998|        4:47 PM|101004|  1.389|             true|     Client Services|\n",
      "|    Dennis|  Male| 4/18/1987|        1:35 AM|115163| 10.125|            false|               Legal|\n",
      "|      Ruby|Female| 8/17/1987|        4:20 PM| 65476| 10.012|             true|             Product|\n",
      "|      null|Female| 7/20/2015|       10:43 AM| 45906| 11.598|             null|             Finance|\n",
      "|    Angela|Female|11/22/2005|        6:29 AM| 95570| 18.523|             true|         Engineering|\n",
      "|   Frances|Female|  8/8/2002|        6:51 AM|139852|  7.524|             true|Business Development|\n",
      "|    Louise|Female| 8/12/1980|        9:01 AM| 63241| 15.132|             true|                null|\n",
      "|     Julie|Female|10/26/1997|        3:19 PM|102508| 12.637|             true|               Legal|\n",
      "|   Brandon|  Male| 12/1/1980|        1:08 AM|112807| 17.492|             true|     Human Resources|\n",
      "|      Gary|  Male| 1/27/2008|       11:40 PM|109831|  5.831|            false|               Sales|\n",
      "|  Kimberly|Female| 1/14/1999|        7:13 AM| 41426| 14.543|             true|             Finance|\n",
      "|   Lillian|Female|  6/5/2016|        6:09 AM| 59414|  1.256|            false|             Product|\n",
      "|    Jeremy|  Male| 9/21/2010|        5:56 AM| 90370|  7.369|            false|     Human Resources|\n",
      "|     Shawn|  Male| 12/7/1986|        7:45 PM|111737|  6.414|            false|             Product|\n",
      "|     Diana|Female|10/23/1981|       10:27 AM|132940| 19.082|            false|     Client Services|\n",
      "|     Donna|Female| 7/22/2010|        3:48 AM| 81014|  1.894|            false|             Product|\n",
      "+----------+------+----------+---------------+------+-------+-----------------+--------------------+\n",
      "only showing top 20 rows\n",
      "\n"
     ]
    }
   ],
   "source": [
    "df.show()"
   ]
  },
  {
   "cell_type": "code",
   "execution_count": 36,
   "id": "7358cdf9",
   "metadata": {},
   "outputs": [
    {
     "name": "stdout",
     "output_type": "stream",
     "text": [
      "root\n",
      " |-- First Name: string (nullable = true)\n",
      " |-- Gender: string (nullable = true)\n",
      " |-- Start Date: string (nullable = true)\n",
      " |-- Last Login Time: string (nullable = true)\n",
      " |-- Salary: integer (nullable = true)\n",
      " |-- Bonus %: double (nullable = true)\n",
      " |-- Senior Management: boolean (nullable = true)\n",
      " |-- Team: string (nullable = true)\n",
      "\n"
     ]
    }
   ],
   "source": [
    "df=spark.read.option(\"header\",True).option(\"inferschema\",True).csv('emp.csv')\n",
    "df.printSchema() #all datatypes are not strings"
   ]
  },
  {
   "cell_type": "code",
   "execution_count": 37,
   "id": "bd3ddd17",
   "metadata": {},
   "outputs": [
    {
     "name": "stdout",
     "output_type": "stream",
     "text": [
      "+----------+------+\n",
      "|First Name|Gender|\n",
      "+----------+------+\n",
      "|   Douglas|  Male|\n",
      "|    Thomas|  Male|\n",
      "|     Maria|Female|\n",
      "|     Jerry|  Male|\n",
      "|     Larry|  Male|\n",
      "|    Dennis|  Male|\n",
      "|      Ruby|Female|\n",
      "|      null|Female|\n",
      "|    Angela|Female|\n",
      "|   Frances|Female|\n",
      "|    Louise|Female|\n",
      "|     Julie|Female|\n",
      "|   Brandon|  Male|\n",
      "|      Gary|  Male|\n",
      "|  Kimberly|Female|\n",
      "|   Lillian|Female|\n",
      "|    Jeremy|  Male|\n",
      "|     Shawn|  Male|\n",
      "|     Diana|Female|\n",
      "|     Donna|Female|\n",
      "+----------+------+\n",
      "only showing top 20 rows\n",
      "\n"
     ]
    }
   ],
   "source": [
    "df.select(\"First Name\",\"Gender\").show()"
   ]
  },
  {
   "cell_type": "code",
   "execution_count": 38,
   "id": "cb39db43",
   "metadata": {},
   "outputs": [
    {
     "ename": "AttributeError",
     "evalue": "'str' object has no attribute 'alias'",
     "output_type": "error",
     "traceback": [
      "\u001b[0;31m---------------------------------------------------------------------------\u001b[0m",
      "\u001b[0;31mAttributeError\u001b[0m                            Traceback (most recent call last)",
      "Cell \u001b[0;32mIn[38], line 1\u001b[0m\n\u001b[0;32m----> 1\u001b[0m df\u001b[38;5;241m.\u001b[39mselect(\u001b[38;5;124m\"\u001b[39m\u001b[38;5;124mFirst Name\u001b[39m\u001b[38;5;124m\"\u001b[39m\u001b[38;5;241m.\u001b[39malias(\u001b[38;5;124m\"\u001b[39m\u001b[38;5;124mforename\u001b[39m\u001b[38;5;124m\"\u001b[39m))\n",
      "\u001b[0;31mAttributeError\u001b[0m: 'str' object has no attribute 'alias'"
     ]
    }
   ],
   "source": [
    "df.select(\"First Name\".alias(\"forename\"))\n"
   ]
  },
  {
   "cell_type": "code",
   "execution_count": 39,
   "id": "6f4e8b5e",
   "metadata": {},
   "outputs": [],
   "source": [
    "from pyspark.sql.functions import col"
   ]
  },
  {
   "cell_type": "code",
   "execution_count": 40,
   "id": "3dad2d2c",
   "metadata": {},
   "outputs": [
    {
     "name": "stdout",
     "output_type": "stream",
     "text": [
      "+--------+\n",
      "|forename|\n",
      "+--------+\n",
      "| Douglas|\n",
      "|  Thomas|\n",
      "|   Maria|\n",
      "|   Jerry|\n",
      "|   Larry|\n",
      "|  Dennis|\n",
      "|    Ruby|\n",
      "|    null|\n",
      "|  Angela|\n",
      "| Frances|\n",
      "|  Louise|\n",
      "|   Julie|\n",
      "| Brandon|\n",
      "|    Gary|\n",
      "|Kimberly|\n",
      "| Lillian|\n",
      "|  Jeremy|\n",
      "|   Shawn|\n",
      "|   Diana|\n",
      "|   Donna|\n",
      "+--------+\n",
      "only showing top 20 rows\n",
      "\n"
     ]
    }
   ],
   "source": [
    "df.select(col(\"First Name\").alias(\"forename\")).show()"
   ]
  },
  {
   "cell_type": "code",
   "execution_count": 41,
   "id": "5f2ed083",
   "metadata": {},
   "outputs": [
    {
     "name": "stdout",
     "output_type": "stream",
     "text": [
      "+----------+------+--------------------+\n",
      "|First Name|Gender|                Team|\n",
      "+----------+------+--------------------+\n",
      "|   Douglas|  Male|           Marketing|\n",
      "|    Thomas|  Male|                null|\n",
      "|     Maria|Female|             Finance|\n",
      "|     Jerry|  Male|             Finance|\n",
      "|     Larry|  Male|     Client Services|\n",
      "|    Dennis|  Male|               Legal|\n",
      "|      Ruby|Female|             Product|\n",
      "|      null|Female|             Finance|\n",
      "|    Angela|Female|         Engineering|\n",
      "|   Frances|Female|Business Development|\n",
      "|    Louise|Female|                null|\n",
      "|     Julie|Female|               Legal|\n",
      "|   Brandon|  Male|     Human Resources|\n",
      "|      Gary|  Male|               Sales|\n",
      "|  Kimberly|Female|             Finance|\n",
      "|   Lillian|Female|             Product|\n",
      "|    Jeremy|  Male|     Human Resources|\n",
      "|     Shawn|  Male|             Product|\n",
      "|     Diana|Female|     Client Services|\n",
      "|     Donna|Female|             Product|\n",
      "+----------+------+--------------------+\n",
      "only showing top 20 rows\n",
      "\n"
     ]
    }
   ],
   "source": [
    "df.select(\"First Name\", col(\"Gender\"),df[\"Team\"]).show()"
   ]
  },
  {
   "cell_type": "code",
   "execution_count": 42,
   "id": "7d541049",
   "metadata": {},
   "outputs": [
    {
     "name": "stdout",
     "output_type": "stream",
     "text": [
      "+--------+------+----------+---------------+------+-------+-----------------+--------------------+\n",
      "|forename|Gender|Start Date|Last Login Time|Salary|Bonus %|Senior Management|                Team|\n",
      "+--------+------+----------+---------------+------+-------+-----------------+--------------------+\n",
      "| Douglas|  Male|  8/6/1993|       12:42 PM| 97308|  6.945|             true|           Marketing|\n",
      "|  Thomas|  Male| 3/31/1996|        6:53 AM| 61933|   4.17|             true|                null|\n",
      "|   Maria|Female| 4/23/1993|       11:17 AM|130590| 11.858|            false|             Finance|\n",
      "|   Jerry|  Male|  3/4/2005|        1:00 PM|138705|   9.34|             true|             Finance|\n",
      "|   Larry|  Male| 1/24/1998|        4:47 PM|101004|  1.389|             true|     Client Services|\n",
      "|  Dennis|  Male| 4/18/1987|        1:35 AM|115163| 10.125|            false|               Legal|\n",
      "|    Ruby|Female| 8/17/1987|        4:20 PM| 65476| 10.012|             true|             Product|\n",
      "|    null|Female| 7/20/2015|       10:43 AM| 45906| 11.598|             null|             Finance|\n",
      "|  Angela|Female|11/22/2005|        6:29 AM| 95570| 18.523|             true|         Engineering|\n",
      "| Frances|Female|  8/8/2002|        6:51 AM|139852|  7.524|             true|Business Development|\n",
      "|  Louise|Female| 8/12/1980|        9:01 AM| 63241| 15.132|             true|                null|\n",
      "|   Julie|Female|10/26/1997|        3:19 PM|102508| 12.637|             true|               Legal|\n",
      "| Brandon|  Male| 12/1/1980|        1:08 AM|112807| 17.492|             true|     Human Resources|\n",
      "|    Gary|  Male| 1/27/2008|       11:40 PM|109831|  5.831|            false|               Sales|\n",
      "|Kimberly|Female| 1/14/1999|        7:13 AM| 41426| 14.543|             true|             Finance|\n",
      "| Lillian|Female|  6/5/2016|        6:09 AM| 59414|  1.256|            false|             Product|\n",
      "|  Jeremy|  Male| 9/21/2010|        5:56 AM| 90370|  7.369|            false|     Human Resources|\n",
      "|   Shawn|  Male| 12/7/1986|        7:45 PM|111737|  6.414|            false|             Product|\n",
      "|   Diana|Female|10/23/1981|       10:27 AM|132940| 19.082|            false|     Client Services|\n",
      "|   Donna|Female| 7/22/2010|        3:48 AM| 81014|  1.894|            false|             Product|\n",
      "+--------+------+----------+---------------+------+-------+-----------------+--------------------+\n",
      "only showing top 20 rows\n",
      "\n"
     ]
    }
   ],
   "source": [
    "df.withColumnRenamed('First Name', 'forename').show()"
   ]
  },
  {
   "cell_type": "code",
   "execution_count": 43,
   "id": "a159b1d2",
   "metadata": {},
   "outputs": [
    {
     "name": "stdout",
     "output_type": "stream",
     "text": [
      "+--------+----------+------+----------+---------------+------+-------+-----------------+--------------------+\n",
      "|forename|First Name|Gender|Start Date|Last Login Time|Salary|Bonus %|Senior Management|                Team|\n",
      "+--------+----------+------+----------+---------------+------+-------+-----------------+--------------------+\n",
      "| Douglas|   Douglas|  Male|  8/6/1993|       12:42 PM| 97308|  6.945|             true|           Marketing|\n",
      "|  Thomas|    Thomas|  Male| 3/31/1996|        6:53 AM| 61933|   4.17|             true|                null|\n",
      "|   Maria|     Maria|Female| 4/23/1993|       11:17 AM|130590| 11.858|            false|             Finance|\n",
      "|   Jerry|     Jerry|  Male|  3/4/2005|        1:00 PM|138705|   9.34|             true|             Finance|\n",
      "|   Larry|     Larry|  Male| 1/24/1998|        4:47 PM|101004|  1.389|             true|     Client Services|\n",
      "|  Dennis|    Dennis|  Male| 4/18/1987|        1:35 AM|115163| 10.125|            false|               Legal|\n",
      "|    Ruby|      Ruby|Female| 8/17/1987|        4:20 PM| 65476| 10.012|             true|             Product|\n",
      "|    null|      null|Female| 7/20/2015|       10:43 AM| 45906| 11.598|             null|             Finance|\n",
      "|  Angela|    Angela|Female|11/22/2005|        6:29 AM| 95570| 18.523|             true|         Engineering|\n",
      "| Frances|   Frances|Female|  8/8/2002|        6:51 AM|139852|  7.524|             true|Business Development|\n",
      "|  Louise|    Louise|Female| 8/12/1980|        9:01 AM| 63241| 15.132|             true|                null|\n",
      "|   Julie|     Julie|Female|10/26/1997|        3:19 PM|102508| 12.637|             true|               Legal|\n",
      "| Brandon|   Brandon|  Male| 12/1/1980|        1:08 AM|112807| 17.492|             true|     Human Resources|\n",
      "|    Gary|      Gary|  Male| 1/27/2008|       11:40 PM|109831|  5.831|            false|               Sales|\n",
      "|Kimberly|  Kimberly|Female| 1/14/1999|        7:13 AM| 41426| 14.543|             true|             Finance|\n",
      "| Lillian|   Lillian|Female|  6/5/2016|        6:09 AM| 59414|  1.256|            false|             Product|\n",
      "|  Jeremy|    Jeremy|  Male| 9/21/2010|        5:56 AM| 90370|  7.369|            false|     Human Resources|\n",
      "|   Shawn|     Shawn|  Male| 12/7/1986|        7:45 PM|111737|  6.414|            false|             Product|\n",
      "|   Diana|     Diana|Female|10/23/1981|       10:27 AM|132940| 19.082|            false|     Client Services|\n",
      "|   Donna|     Donna|Female| 7/22/2010|        3:48 AM| 81014|  1.894|            false|             Product|\n",
      "+--------+----------+------+----------+---------------+------+-------+-----------------+--------------------+\n",
      "only showing top 20 rows\n",
      "\n"
     ]
    }
   ],
   "source": [
    "df.select(col(\"First Name\").alias(\"forename\"),\"*\").show()"
   ]
  },
  {
   "cell_type": "code",
   "execution_count": 45,
   "id": "37f357f1",
   "metadata": {},
   "outputs": [],
   "source": [
    "from pyspark.sql.functions import *"
   ]
  },
  {
   "cell_type": "code",
   "execution_count": 46,
   "id": "687e4f24",
   "metadata": {},
   "outputs": [
    {
     "name": "stdout",
     "output_type": "stream",
     "text": [
      "+-----------------------------------+\n",
      "|concat(Start Date, Last Login Time)|\n",
      "+-----------------------------------+\n",
      "|                   8/6/199312:42 PM|\n",
      "|                   3/31/19966:53 AM|\n",
      "|                  4/23/199311:17 AM|\n",
      "|                    3/4/20051:00 PM|\n",
      "|                   1/24/19984:47 PM|\n",
      "|                   4/18/19871:35 AM|\n",
      "|                   8/17/19874:20 PM|\n",
      "|                  7/20/201510:43 AM|\n",
      "|                  11/22/20056:29 AM|\n",
      "|                    8/8/20026:51 AM|\n",
      "|                   8/12/19809:01 AM|\n",
      "|                  10/26/19973:19 PM|\n",
      "|                   12/1/19801:08 AM|\n",
      "|                  1/27/200811:40 PM|\n",
      "|                   1/14/19997:13 AM|\n",
      "|                    6/5/20166:09 AM|\n",
      "|                   9/21/20105:56 AM|\n",
      "|                   12/7/19867:45 PM|\n",
      "|                 10/23/198110:27 AM|\n",
      "|                   7/22/20103:48 AM|\n",
      "+-----------------------------------+\n",
      "only showing top 20 rows\n",
      "\n"
     ]
    }
   ],
   "source": [
    "df.select(concat(\"Start Date\",\"Last Login Time\")).show()"
   ]
  },
  {
   "cell_type": "code",
   "execution_count": 48,
   "id": "7b55a73a",
   "metadata": {},
   "outputs": [
    {
     "name": "stdout",
     "output_type": "stream",
     "text": [
      "+----------------------------------------+\n",
      "|concat(Start Date,  & , Last Login Time)|\n",
      "+----------------------------------------+\n",
      "|                     8/6/1993 & 12:42 PM|\n",
      "|                     3/31/1996 & 6:53 AM|\n",
      "|                    4/23/1993 & 11:17 AM|\n",
      "|                      3/4/2005 & 1:00 PM|\n",
      "|                     1/24/1998 & 4:47 PM|\n",
      "|                     4/18/1987 & 1:35 AM|\n",
      "|                     8/17/1987 & 4:20 PM|\n",
      "|                    7/20/2015 & 10:43 AM|\n",
      "|                    11/22/2005 & 6:29 AM|\n",
      "|                      8/8/2002 & 6:51 AM|\n",
      "|                     8/12/1980 & 9:01 AM|\n",
      "|                    10/26/1997 & 3:19 PM|\n",
      "|                     12/1/1980 & 1:08 AM|\n",
      "|                    1/27/2008 & 11:40 PM|\n",
      "|                     1/14/1999 & 7:13 AM|\n",
      "|                      6/5/2016 & 6:09 AM|\n",
      "|                     9/21/2010 & 5:56 AM|\n",
      "|                     12/7/1986 & 7:45 PM|\n",
      "|                    10/23/1981 & 10:2...|\n",
      "|                     7/22/2010 & 3:48 AM|\n",
      "+----------------------------------------+\n",
      "only showing top 20 rows\n",
      "\n"
     ]
    }
   ],
   "source": [
    "df.select(concat(\"Start Date\",lit(\" & \"),\"Last Login Time\")).show()"
   ]
  },
  {
   "cell_type": "code",
   "execution_count": 50,
   "id": "71a0bc97",
   "metadata": {},
   "outputs": [
    {
     "name": "stdout",
     "output_type": "stream",
     "text": [
      "+--------------------+\n",
      "|            datetime|\n",
      "+--------------------+\n",
      "| 8/6/1993 & 12:42 PM|\n",
      "| 3/31/1996 & 6:53 AM|\n",
      "|4/23/1993 & 11:17 AM|\n",
      "|  3/4/2005 & 1:00 PM|\n",
      "| 1/24/1998 & 4:47 PM|\n",
      "| 4/18/1987 & 1:35 AM|\n",
      "| 8/17/1987 & 4:20 PM|\n",
      "|7/20/2015 & 10:43 AM|\n",
      "|11/22/2005 & 6:29 AM|\n",
      "|  8/8/2002 & 6:51 AM|\n",
      "| 8/12/1980 & 9:01 AM|\n",
      "|10/26/1997 & 3:19 PM|\n",
      "| 12/1/1980 & 1:08 AM|\n",
      "|1/27/2008 & 11:40 PM|\n",
      "| 1/14/1999 & 7:13 AM|\n",
      "|  6/5/2016 & 6:09 AM|\n",
      "| 9/21/2010 & 5:56 AM|\n",
      "| 12/7/1986 & 7:45 PM|\n",
      "|10/23/1981 & 10:2...|\n",
      "| 7/22/2010 & 3:48 AM|\n",
      "+--------------------+\n",
      "only showing top 20 rows\n",
      "\n"
     ]
    }
   ],
   "source": [
    "df.select(concat(\"Start Date\",lit(\" & \"),\"Last Login Time\").alias(\"datetime\")).show()"
   ]
  },
  {
   "cell_type": "code",
   "execution_count": null,
   "id": "d31d0ea6",
   "metadata": {},
   "outputs": [],
   "source": []
  }
 ],
 "metadata": {
  "kernelspec": {
   "display_name": "Python 3 (ipykernel)",
   "language": "python",
   "name": "python3"
  },
  "language_info": {
   "codemirror_mode": {
    "name": "ipython",
    "version": 3
   },
   "file_extension": ".py",
   "mimetype": "text/x-python",
   "name": "python",
   "nbconvert_exporter": "python",
   "pygments_lexer": "ipython3",
   "version": "3.11.4"
  }
 },
 "nbformat": 4,
 "nbformat_minor": 5
}
