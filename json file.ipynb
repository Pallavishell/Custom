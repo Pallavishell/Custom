{
 "cells": [
  {
   "cell_type": "code",
   "execution_count": 25,
   "id": "03094c92",
   "metadata": {},
   "outputs": [],
   "source": [
    "import pyspark\n",
    "import findspark\n",
    "from pyspark.sql import SparkSession\n",
    "spark = SparkSession.builder.appName(\"example\").getOrCreate()"
   ]
  },
  {
   "cell_type": "code",
   "execution_count": 26,
   "id": "2ff36ac7",
   "metadata": {},
   "outputs": [],
   "source": [
    "df=spark.read.json(f\"constructors.json\")"
   ]
  },
  {
   "cell_type": "code",
   "execution_count": 27,
   "id": "2aa72af8",
   "metadata": {},
   "outputs": [
    {
     "name": "stdout",
     "output_type": "stream",
     "text": [
      "+-------------+--------------+-----------+-----------+--------------------+\n",
      "|constructorId|constructorRef|       name|nationality|                 url|\n",
      "+-------------+--------------+-----------+-----------+--------------------+\n",
      "|            1|       mclaren|    McLaren|    British|http://en.wikiped...|\n",
      "|            2|    bmw_sauber| BMW Sauber|     German|http://en.wikiped...|\n",
      "|            3|      williams|   Williams|    British|http://en.wikiped...|\n",
      "|            4|       renault|    Renault|     French|http://en.wikiped...|\n",
      "|            5|    toro_rosso| Toro Rosso|    Italian|http://en.wikiped...|\n",
      "|            6|       ferrari|    Ferrari|    Italian|http://en.wikiped...|\n",
      "|            7|        toyota|     Toyota|   Japanese|http://en.wikiped...|\n",
      "|            8|   super_aguri|Super Aguri|   Japanese|http://en.wikiped...|\n",
      "|            9|      red_bull|   Red Bull|   Austrian|http://en.wikiped...|\n",
      "|           10|   force_india|Force India|     Indian|http://en.wikiped...|\n",
      "|           11|         honda|      Honda|   Japanese|http://en.wikiped...|\n",
      "|           12|        spyker|     Spyker|      Dutch|http://en.wikiped...|\n",
      "|           13|           mf1|        MF1|    Russian|http://en.wikiped...|\n",
      "|           14|    spyker_mf1| Spyker MF1|      Dutch|http://en.wikiped...|\n",
      "|           15|        sauber|     Sauber|      Swiss|http://en.wikiped...|\n",
      "|           16|           bar|        BAR|    British|http://en.wikiped...|\n",
      "|           17|        jordan|     Jordan|      Irish|http://en.wikiped...|\n",
      "|           18|       minardi|    Minardi|    Italian|http://en.wikiped...|\n",
      "|           19|        jaguar|     Jaguar|    British|http://en.wikiped...|\n",
      "|           20|         prost|      Prost|     French|http://en.wikiped...|\n",
      "+-------------+--------------+-----------+-----------+--------------------+\n",
      "only showing top 20 rows\n",
      "\n"
     ]
    }
   ],
   "source": [
    "df.show()"
   ]
  },
  {
   "cell_type": "code",
   "execution_count": 28,
   "id": "2f5e9836",
   "metadata": {},
   "outputs": [],
   "source": [
    "input_file_name = '/home/labuser/Desktop/constructors.json'"
   ]
  },
  {
   "cell_type": "code",
   "execution_count": 29,
   "id": "3dc80ef3",
   "metadata": {},
   "outputs": [],
   "source": [
    "from pyspark.sql.functions import *"
   ]
  },
  {
   "cell_type": "code",
   "execution_count": 30,
   "id": "caebc392",
   "metadata": {},
   "outputs": [],
   "source": [
    "df=df.withColumn(\"Ingestion Date\",current_timestamp()).withColumn(\"path\",input_file_name()).drop(\"url\")"
   ]
  },
  {
   "cell_type": "code",
   "execution_count": 31,
   "id": "01885090",
   "metadata": {},
   "outputs": [],
   "source": [
    "df = df.drop(\"path\")"
   ]
  },
  {
   "cell_type": "code",
   "execution_count": 32,
   "id": "55ff7f64",
   "metadata": {},
   "outputs": [],
   "source": [
    "df.write.mode(\"overwrite\").parquet(\"data/consparquet\")"
   ]
  },
  {
   "cell_type": "code",
   "execution_count": 33,
   "id": "8ad86f90",
   "metadata": {},
   "outputs": [],
   "source": [
    "df.write.mode(\"overwrite\").option(\"path\",'/home/labuser/Desktop').saveAsTable(\"constructorTable\")"
   ]
  },
  {
   "cell_type": "code",
   "execution_count": 34,
   "id": "ae342795",
   "metadata": {},
   "outputs": [
    {
     "name": "stdout",
     "output_type": "stream",
     "text": [
      "+-------------+--------------+-----------+-----------+--------------------+\n",
      "|constructorId|constructorRef|       name|nationality|      Ingestion Date|\n",
      "+-------------+--------------+-----------+-----------+--------------------+\n",
      "|            1|       mclaren|    McLaren|    British|2023-09-22 06:36:...|\n",
      "|            2|    bmw_sauber| BMW Sauber|     German|2023-09-22 06:36:...|\n",
      "|            3|      williams|   Williams|    British|2023-09-22 06:36:...|\n",
      "|            4|       renault|    Renault|     French|2023-09-22 06:36:...|\n",
      "|            5|    toro_rosso| Toro Rosso|    Italian|2023-09-22 06:36:...|\n",
      "|            6|       ferrari|    Ferrari|    Italian|2023-09-22 06:36:...|\n",
      "|            7|        toyota|     Toyota|   Japanese|2023-09-22 06:36:...|\n",
      "|            8|   super_aguri|Super Aguri|   Japanese|2023-09-22 06:36:...|\n",
      "|            9|      red_bull|   Red Bull|   Austrian|2023-09-22 06:36:...|\n",
      "|           10|   force_india|Force India|     Indian|2023-09-22 06:36:...|\n",
      "|           11|         honda|      Honda|   Japanese|2023-09-22 06:36:...|\n",
      "|           12|        spyker|     Spyker|      Dutch|2023-09-22 06:36:...|\n",
      "|           13|           mf1|        MF1|    Russian|2023-09-22 06:36:...|\n",
      "|           14|    spyker_mf1| Spyker MF1|      Dutch|2023-09-22 06:36:...|\n",
      "|           15|        sauber|     Sauber|      Swiss|2023-09-22 06:36:...|\n",
      "|           16|           bar|        BAR|    British|2023-09-22 06:36:...|\n",
      "|           17|        jordan|     Jordan|      Irish|2023-09-22 06:36:...|\n",
      "|           18|       minardi|    Minardi|    Italian|2023-09-22 06:36:...|\n",
      "|           19|        jaguar|     Jaguar|    British|2023-09-22 06:36:...|\n",
      "|           20|         prost|      Prost|     French|2023-09-22 06:36:...|\n",
      "+-------------+--------------+-----------+-----------+--------------------+\n",
      "only showing top 20 rows\n",
      "\n"
     ]
    }
   ],
   "source": [
    "spark.sql(\"select * from constructorTable\").show()"
   ]
  },
  {
   "cell_type": "code",
   "execution_count": null,
   "id": "9eafe9b5",
   "metadata": {},
   "outputs": [],
   "source": []
  }
 ],
 "metadata": {
  "kernelspec": {
   "display_name": "Python 3 (ipykernel)",
   "language": "python",
   "name": "python3"
  },
  "language_info": {
   "codemirror_mode": {
    "name": "ipython",
    "version": 3
   },
   "file_extension": ".py",
   "mimetype": "text/x-python",
   "name": "python",
   "nbconvert_exporter": "python",
   "pygments_lexer": "ipython3",
   "version": "3.11.4"
  }
 },
 "nbformat": 4,
 "nbformat_minor": 5
}
